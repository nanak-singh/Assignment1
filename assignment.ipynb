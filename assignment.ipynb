{
 "cells": [
  {
   "cell_type": "code",
   "execution_count": 1,
   "metadata": {},
   "outputs": [
    {
     "name": "stdout",
     "output_type": "stream",
     "text": [
      "Enter the First Namehello python\n"
     ]
    }
   ],
   "source": [
    "#1\n",
    "a = input(\"Enter the First Name\")"
   ]
  },
  {
   "cell_type": "code",
   "execution_count": 2,
   "metadata": {},
   "outputs": [
    {
     "name": "stdout",
     "output_type": "stream",
     "text": [
      "Enter the Last Namepypy\n"
     ]
    }
   ],
   "source": [
    "b = input(\"Enter the Last Name\")"
   ]
  },
  {
   "cell_type": "code",
   "execution_count": 3,
   "metadata": {},
   "outputs": [
    {
     "name": "stdout",
     "output_type": "stream",
     "text": [
      "pypy   hello python\n"
     ]
    }
   ],
   "source": [
    "print(b,' ',a)"
   ]
  },
  {
   "cell_type": "code",
   "execution_count": 31,
   "metadata": {},
   "outputs": [
    {
     "name": "stdout",
     "output_type": "stream",
     "text": [
      "no. 11\n",
      "no. 22\n",
      "no. 33\n"
     ]
    }
   ],
   "source": [
    "#2\n",
    "x=y=z=0\n",
    "x= int(input(\"no. 1\"))\n",
    "y= int(input(\"no. 2\"))\n",
    "z= int(input(\"no. 3\"))"
   ]
  },
  {
   "cell_type": "code",
   "execution_count": 33,
   "metadata": {},
   "outputs": [
    {
     "name": "stdout",
     "output_type": "stream",
     "text": [
      "1 2 3\n"
     ]
    }
   ],
   "source": [
    "print(x,y,z)"
   ]
  },
  {
   "cell_type": "code",
   "execution_count": 34,
   "metadata": {},
   "outputs": [],
   "source": [
    "d = x+y+z"
   ]
  },
  {
   "cell_type": "code",
   "execution_count": 35,
   "metadata": {},
   "outputs": [
    {
     "name": "stdout",
     "output_type": "stream",
     "text": [
      "6\n"
     ]
    }
   ],
   "source": [
    "print(d)"
   ]
  },
  {
   "cell_type": "code",
   "execution_count": 36,
   "metadata": {},
   "outputs": [],
   "source": [
    "e= d/3"
   ]
  },
  {
   "cell_type": "code",
   "execution_count": 37,
   "metadata": {},
   "outputs": [
    {
     "name": "stdout",
     "output_type": "stream",
     "text": [
      "2.0\n"
     ]
    }
   ],
   "source": [
    "print(e)"
   ]
  },
  {
   "cell_type": "code",
   "execution_count": 2,
   "metadata": {},
   "outputs": [
    {
     "name": "stdout",
     "output_type": "stream",
     "text": [
      "enter1\n",
      "enter2\n"
     ]
    }
   ],
   "source": [
    "#3\n",
    "x = int(input('enter'))\n",
    "y = int(input('enter'))"
   ]
  },
  {
   "cell_type": "code",
   "execution_count": 10,
   "metadata": {},
   "outputs": [],
   "source": [
    "z=(x+y)*(x+y)"
   ]
  },
  {
   "cell_type": "code",
   "execution_count": 67,
   "metadata": {},
   "outputs": [
    {
     "name": "stdout",
     "output_type": "stream",
     "text": [
      "\" 30 + 20 = 50 \"\n"
     ]
    }
   ],
   "source": [
    "#4\n",
    "x=30\n",
    "y=20\n",
    "\n",
    "print('\"',x,'+',y,'=',x+y,'\"')"
   ]
  },
  {
   "cell_type": "code",
   "execution_count": 1,
   "metadata": {},
   "outputs": [
    {
     "name": "stdout",
     "output_type": "stream",
     "text": [
      "enter your name : abc\n",
      "enter your age : 68\n"
     ]
    }
   ],
   "source": [
    "#5\n",
    "a= input(\"enter your name : \")\n",
    "b= int(input(\"enter your age : \"))"
   ]
  },
  {
   "cell_type": "code",
   "execution_count": 4,
   "metadata": {},
   "outputs": [
    {
     "name": "stdout",
     "output_type": "stream",
     "text": [
      "32  Years are left for abc to be 100 years old\n"
     ]
    }
   ],
   "source": [
    "c=100-b\n",
    "print(c,' Years are left for',a,'to be 100 years old')"
   ]
  },
  {
   "cell_type": "code",
   "execution_count": 10,
   "metadata": {},
   "outputs": [
    {
     "name": "stdout",
     "output_type": "stream",
     "text": [
      "Enter the Radius :3\n"
     ]
    }
   ],
   "source": [
    "#6\n",
    "r=float(input(\"Enter the Radius :\"))"
   ]
  },
  {
   "cell_type": "code",
   "execution_count": 16,
   "metadata": {},
   "outputs": [
    {
     "name": "stdout",
     "output_type": "stream",
     "text": [
      "113.03999999999998\n"
     ]
    }
   ],
   "source": [
    "pi=3.14\n",
    "v=4/3*pi*r*r*r\n",
    "print(v)"
   ]
  },
  {
   "cell_type": "code",
   "execution_count": 17,
   "metadata": {},
   "outputs": [
    {
     "name": "stdout",
     "output_type": "stream",
     "text": [
      "enter side 1 :10\n",
      "enter side 2 :20\n"
     ]
    }
   ],
   "source": [
    "#7\n",
    "a=float(input(\"enter side 1 :\"))\n",
    "b=float(input(\"enter side 2 :\"))"
   ]
  },
  {
   "cell_type": "code",
   "execution_count": 18,
   "metadata": {},
   "outputs": [
    {
     "name": "stdout",
     "output_type": "stream",
     "text": [
      "22.360679774997898\n"
     ]
    }
   ],
   "source": [
    "c=(a*a+b*b)**0.5\n",
    "print(c)"
   ]
  },
  {
   "cell_type": "code",
   "execution_count": 19,
   "metadata": {},
   "outputs": [
    {
     "name": "stdout",
     "output_type": "stream",
     "text": [
      "enter x1 : 1\n",
      "enter x2 : 2\n",
      "enter y1 : 3\n",
      "enter y2 : 1\n"
     ]
    }
   ],
   "source": [
    "#8\n",
    "x1=float(input(\"enter x1 : \"))\n",
    "x2=float(input(\"enter x2 : \"))\n",
    "y1=float(input(\"enter y1 : \"))\n",
    "y2=float(input(\"enter y2 : \"))"
   ]
  },
  {
   "cell_type": "code",
   "execution_count": 25,
   "metadata": {},
   "outputs": [
    {
     "name": "stdout",
     "output_type": "stream",
     "text": [
      "2.23606797749979\n"
     ]
    }
   ],
   "source": [
    "c=x2-x1\n",
    "d=y2-y1\n",
    "a=(c**2+d**2)**0.5\n",
    "print(a)"
   ]
  },
  {
   "cell_type": "code",
   "execution_count": 29,
   "metadata": {},
   "outputs": [
    {
     "name": "stdout",
     "output_type": "stream",
     "text": [
      "Enter a number : 5\n",
      "False\n"
     ]
    }
   ],
   "source": [
    "#9\n",
    "a=int(input(\"Enter a number : \"))\n",
    "if a%2==0 :\n",
    "    print(\"True\")\n",
    "else :\n",
    "    print(\"False\")"
   ]
  },
  {
   "cell_type": "code",
   "execution_count": 28,
   "metadata": {},
   "outputs": [
    {
     "name": "stdout",
     "output_type": "stream",
     "text": [
      "Enter a number : 2\n",
      "True\n"
     ]
    }
   ],
   "source": [
    "a=int(input(\"Enter a number : \"))\n",
    "if a%2==0 :\n",
    "    print(\"True\")\n",
    "else :\n",
    "    print(\"False\")"
   ]
  },
  {
   "cell_type": "code",
   "execution_count": 32,
   "metadata": {},
   "outputs": [
    {
     "name": "stdout",
     "output_type": "stream",
     "text": [
      "Enter a number : 3\n",
      "Enter a number : 4\n",
      "Entered numbers are\n",
      "3   4\n",
      "Swapped\n",
      "4   3\n"
     ]
    }
   ],
   "source": [
    "#10\n",
    "x=int(input(\"Enter a number : \"))\n",
    "y=int(input(\"Enter a number : \"))\n",
    "print(\"Entered numbers are\")\n",
    "print(x,' ',y)\n",
    "c=x\n",
    "x=y\n",
    "y=c\n",
    "print(\"Swapped\")\n",
    "print(x,' ',y)"
   ]
  },
  {
   "cell_type": "code",
   "execution_count": 33,
   "metadata": {},
   "outputs": [
    {
     "name": "stdout",
     "output_type": "stream",
     "text": [
      "Enter a number : 2\n",
      "Even\n"
     ]
    }
   ],
   "source": [
    "#1\n",
    "a=int(input(\"Enter a number : \"))\n",
    "if a%2==0 :\n",
    "    print(\"Even\")\n",
    "else :\n",
    "    print(\"Odd\")"
   ]
  },
  {
   "cell_type": "code",
   "execution_count": 34,
   "metadata": {},
   "outputs": [
    {
     "name": "stdout",
     "output_type": "stream",
     "text": [
      "Enter a number : 7\n",
      "Odd\n"
     ]
    }
   ],
   "source": [
    "a=int(input(\"Enter a number : \"))\n",
    "if a%2==0 :\n",
    "    print(\"Even\")\n",
    "else :\n",
    "    print(\"Odd\")"
   ]
  },
  {
   "cell_type": "code",
   "execution_count": 36,
   "metadata": {},
   "outputs": [
    {
     "name": "stdout",
     "output_type": "stream",
     "text": [
      "Enter a number : 4\n",
      "2.0\n"
     ]
    }
   ],
   "source": [
    "#2\n",
    "a=float(input(\"Enter a number : \"))\n",
    "b=a**0.5\n",
    "print(b)"
   ]
  },
  {
   "cell_type": "code",
   "execution_count": 39,
   "metadata": {},
   "outputs": [
    {
     "name": "stdout",
     "output_type": "stream",
     "text": [
      "Enter a number : 10\n"
     ]
    }
   ],
   "source": [
    "#3\n",
    "z=int(input(\"Enter a number : \"))"
   ]
  },
  {
   "cell_type": "code",
   "execution_count": 40,
   "metadata": {},
   "outputs": [
    {
     "name": "stdout",
     "output_type": "stream",
     "text": [
      "1\n",
      "2\n",
      "3\n",
      "4\n",
      "5\n",
      "6\n",
      "7\n",
      "8\n",
      "9\n",
      "10\n",
      "reverse order : \n",
      "10\n",
      "9\n",
      "8\n",
      "7\n",
      "6\n",
      "5\n",
      "4\n",
      "3\n",
      "2\n",
      "1\n"
     ]
    }
   ],
   "source": [
    "for i in range (1,z+1,1):\n",
    "   print(i)\n",
    "print(\"reverse order : \")\n",
    "for i in range (z,0,-1):\n",
    "   print(i)"
   ]
  },
  {
   "cell_type": "code",
   "execution_count": 50,
   "metadata": {},
   "outputs": [
    {
     "name": "stdout",
     "output_type": "stream",
     "text": [
      "Even Numbers : \n",
      "2\n",
      "4\n",
      "6\n",
      "8\n",
      "10\n",
      "12\n",
      "14\n",
      "16\n",
      "18\n",
      "20\n",
      "22\n",
      "24\n",
      "26\n",
      "28\n",
      "30\n",
      "32\n",
      "34\n",
      "36\n",
      "38\n",
      "40\n",
      "42\n",
      "44\n",
      "46\n",
      "48\n",
      "50\n",
      "52\n",
      "54\n",
      "56\n",
      "58\n",
      "60\n",
      "62\n",
      "64\n",
      "66\n",
      "68\n",
      "70\n",
      "72\n",
      "74\n",
      "76\n",
      "78\n",
      "80\n",
      "82\n",
      "84\n",
      "86\n",
      "88\n",
      "90\n",
      "92\n",
      "94\n",
      "96\n",
      "98\n"
     ]
    }
   ],
   "source": [
    "#4\n",
    "print(\"Even Numbers : \")\n",
    "for i in range (2,100,2):\n",
    "   print(i)"
   ]
  },
  {
   "cell_type": "code",
   "execution_count": 52,
   "metadata": {},
   "outputs": [
    {
     "name": "stdout",
     "output_type": "stream",
     "text": [
      "Odd numbers :\n",
      "1\n",
      "3\n",
      "5\n",
      "7\n",
      "9\n",
      "11\n",
      "13\n",
      "15\n",
      "17\n",
      "19\n",
      "21\n",
      "23\n",
      "25\n",
      "27\n",
      "29\n",
      "31\n",
      "33\n",
      "35\n",
      "37\n",
      "39\n",
      "41\n",
      "43\n",
      "45\n",
      "47\n",
      "49\n",
      "51\n",
      "53\n",
      "55\n",
      "57\n",
      "59\n",
      "61\n",
      "63\n",
      "65\n",
      "67\n",
      "69\n",
      "71\n",
      "73\n",
      "75\n",
      "77\n",
      "79\n",
      "81\n",
      "83\n",
      "85\n",
      "87\n",
      "89\n",
      "91\n",
      "93\n",
      "95\n",
      "97\n",
      "99\n"
     ]
    }
   ],
   "source": [
    "print(\"Odd numbers :\")\n",
    "for i in range (1,100,2):\n",
    "   print(i)"
   ]
  },
  {
   "cell_type": "code",
   "execution_count": 53,
   "metadata": {},
   "outputs": [
    {
     "name": "stdout",
     "output_type": "stream",
     "text": [
      "Enter a,b,c in quadratic equation \n",
      "Enter a : 1\n",
      "Enter b : 3\n",
      "Enter c : 1\n"
     ]
    }
   ],
   "source": [
    "#5\n",
    "print(\"Enter a,b,c in quadratic equation \")\n",
    "a=int(input(\"Enter a : \"))\n",
    "b=int(input(\"Enter b : \"))\n",
    "c=int(input(\"Enter c : \"))"
   ]
  },
  {
   "cell_type": "code",
   "execution_count": 54,
   "metadata": {},
   "outputs": [
    {
     "name": "stdout",
     "output_type": "stream",
     "text": [
      "the solutions are  -0.3819660112501051  and  -2.618033988749895\n"
     ]
    }
   ],
   "source": [
    "d=(b*b-4*a*c)**0.5\n",
    "d1=(-b+d)/2*a\n",
    "d2=(-b-d)/2*a\n",
    "print(\"the solutions are \",d1,\" and \",d2)"
   ]
  },
  {
   "cell_type": "code",
   "execution_count": 6,
   "metadata": {},
   "outputs": [
    {
     "name": "stdout",
     "output_type": "stream",
     "text": [
      "Enter a number:7315\n",
      "number of digits in  7315  are  4\n"
     ]
    }
   ],
   "source": [
    "#6\n",
    "n=int(input(\"Enter a number:\"))\n",
    "q=n\n",
    "c=0\n",
    "while(n>0):\n",
    "    c=c+1\n",
    "    n=n//10\n",
    "print(\"number of digits in \",q,\" are \",c)"
   ]
  },
  {
   "cell_type": "code",
   "execution_count": 59,
   "metadata": {},
   "outputs": [
    {
     "name": "stdout",
     "output_type": "stream",
     "text": [
      "Please enter the number: 4\n"
     ]
    }
   ],
   "source": [
    "#7\n",
    "a = int(input(\"Please enter the number: \"))"
   ]
  },
  {
   "cell_type": "code",
   "execution_count": 64,
   "metadata": {},
   "outputs": [
    {
     "name": "stdout",
     "output_type": "stream",
     "text": [
      "4 is not a prime number\n"
     ]
    }
   ],
   "source": [
    "if a > 1:\n",
    "   for i in range(2,a):\n",
    "       if (a % i) == 0:\n",
    "           print(a,\"is not a prime number\")\n",
    "           break\n",
    "   else:\n",
    "       print(a,\"is a prime number\")\n",
    "       \n",
    "else:\n",
    "   print(a,\"is not a prime number\")\n"
   ]
  },
  {
   "cell_type": "code",
   "execution_count": 65,
   "metadata": {},
   "outputs": [
    {
     "name": "stdout",
     "output_type": "stream",
     "text": [
      "Please enter the number: 7\n"
     ]
    }
   ],
   "source": [
    "a = int(input(\"Please enter the number: \"))"
   ]
  },
  {
   "cell_type": "code",
   "execution_count": 66,
   "metadata": {},
   "outputs": [
    {
     "name": "stdout",
     "output_type": "stream",
     "text": [
      "7 is a prime number\n"
     ]
    }
   ],
   "source": [
    "if a > 1:\n",
    "   for i in range(2,a):\n",
    "       if (a % i) == 0:\n",
    "           print(a,\"is not a prime number\")\n",
    "           break\n",
    "   else:\n",
    "       print(a,\"is a prime number\")\n",
    "       \n",
    "else:\n",
    "   print(a,\"is not a prime number\")\n"
   ]
  },
  {
   "cell_type": "code",
   "execution_count": 1,
   "metadata": {},
   "outputs": [
    {
     "name": "stdout",
     "output_type": "stream",
     "text": [
      "Input a number: 15\n",
      "Numbers : \n",
      "3\n",
      "5\n",
      "6\n",
      "9\n",
      "10\n",
      "12\n",
      "15\n",
      "Sum =  60\n"
     ]
    }
   ],
   "source": [
    "#8\n",
    "n = int(input('Input a number: '))\n",
    "c=0\n",
    "print(\"Numbers : \")\n",
    "for i in range(1,n+1):\n",
    "    if i % 3 == 0:\n",
    "        c = c + i\n",
    "        print(i)\n",
    "    elif i % 5 == 0:\n",
    "        c = c + i\n",
    "        print(i)\n",
    "print (\"Sum = \" ,c)"
   ]
  },
  {
   "cell_type": "code",
   "execution_count": 8,
   "metadata": {},
   "outputs": [
    {
     "name": "stdout",
     "output_type": "stream",
     "text": [
      "Input a number: 5\n",
      "Input 1 for sum and 2 for product: 1\n",
      "15\n"
     ]
    }
   ],
   "source": [
    "#9\n",
    "n = int(input('Input a number: '))\n",
    "a = int(input('Input 1 for sum and 2 for product: '))\n",
    "c=0\n",
    "if a==1:\n",
    "    for i in range(1,n+1):\n",
    "        c=c+i\n",
    "elif a==2:\n",
    "    c=1\n",
    "    for i in range (1,n+1):\n",
    "        c=c*i\n",
    "else :\n",
    "    print(\"Wrong input\")\n",
    "print(c)"
   ]
  },
  {
   "cell_type": "code",
   "execution_count": 9,
   "metadata": {},
   "outputs": [
    {
     "name": "stdout",
     "output_type": "stream",
     "text": [
      "Input a number: 3\n",
      "Input 1 for sum and 2 for product: 2\n",
      "6\n"
     ]
    }
   ],
   "source": [
    "n = int(input('Input a number: '))\n",
    "a = int(input('Input 1 for sum and 2 for product: '))\n",
    "c=0\n",
    "if a==1:\n",
    "    for i in range(1,n+1):\n",
    "        c=c+i\n",
    "elif a==2:\n",
    "    c=1\n",
    "    for i in range (1,n+1):\n",
    "        c=c*i\n",
    "else :\n",
    "    print(\"Wrong input\")\n",
    "print(c)\n",
    "        \n",
    "        \n"
   ]
  },
  {
   "cell_type": "code",
   "execution_count": 15,
   "metadata": {},
   "outputs": [
    {
     "name": "stdout",
     "output_type": "stream",
     "text": [
      "233168\n"
     ]
    }
   ],
   "source": [
    "#10\n",
    "s=0\n",
    "for i in range(1,1000) :\n",
    "      if i%3==0 or  i%5==0:\n",
    "             s+=i\n",
    "print(s)"
   ]
  },
  {
   "cell_type": "code",
   "execution_count": 2,
   "metadata": {},
   "outputs": [
    {
     "name": "stdout",
     "output_type": "stream",
     "text": [
      "2002\n",
      "2009\n",
      "2016\n",
      "2023\n",
      "2030\n",
      "2037\n",
      "2044\n",
      "2051\n",
      "2058\n",
      "2065\n",
      "2072\n",
      "2079\n",
      "2086\n",
      "2093\n",
      "2107\n",
      "2114\n",
      "2121\n",
      "2128\n",
      "2135\n",
      "2142\n",
      "2149\n",
      "2156\n",
      "2163\n",
      "2170\n",
      "2177\n",
      "2184\n",
      "2191\n",
      "2198\n",
      "2205\n",
      "2212\n",
      "2219\n",
      "2226\n",
      "2233\n",
      "2240\n",
      "2247\n",
      "2254\n",
      "2261\n",
      "2268\n",
      "2282\n",
      "2289\n",
      "2296\n",
      "2303\n",
      "2310\n",
      "2317\n",
      "2324\n",
      "2331\n",
      "2338\n",
      "2345\n",
      "2352\n",
      "2359\n",
      "2366\n",
      "2373\n",
      "2380\n",
      "2387\n",
      "2394\n",
      "2401\n",
      "2408\n",
      "2415\n",
      "2422\n",
      "2429\n",
      "2436\n",
      "2443\n",
      "2457\n",
      "2464\n",
      "2471\n",
      "2478\n",
      "2485\n",
      "2492\n",
      "2499\n",
      "2506\n",
      "2513\n",
      "2520\n",
      "2527\n",
      "2534\n",
      "2541\n",
      "2548\n",
      "2555\n",
      "2562\n",
      "2569\n",
      "2576\n",
      "2583\n",
      "2590\n",
      "2597\n",
      "2604\n",
      "2611\n",
      "2618\n",
      "2632\n",
      "2639\n",
      "2646\n",
      "2653\n",
      "2660\n",
      "2667\n",
      "2674\n",
      "2681\n",
      "2688\n",
      "2695\n",
      "2702\n",
      "2709\n",
      "2716\n",
      "2723\n",
      "2730\n",
      "2737\n",
      "2744\n",
      "2751\n",
      "2758\n",
      "2765\n",
      "2772\n",
      "2779\n",
      "2786\n",
      "2793\n",
      "2807\n",
      "2814\n",
      "2821\n",
      "2828\n",
      "2835\n",
      "2842\n",
      "2849\n",
      "2856\n",
      "2863\n",
      "2870\n",
      "2877\n",
      "2884\n",
      "2891\n",
      "2898\n",
      "2905\n",
      "2912\n",
      "2919\n",
      "2926\n",
      "2933\n",
      "2940\n",
      "2947\n",
      "2954\n",
      "2961\n",
      "2968\n",
      "2982\n",
      "2989\n",
      "2996\n",
      "3003\n",
      "3010\n",
      "3017\n",
      "3024\n",
      "3031\n",
      "3038\n",
      "3045\n",
      "3052\n",
      "3059\n",
      "3066\n",
      "3073\n",
      "3080\n",
      "3087\n",
      "3094\n",
      "3101\n",
      "3108\n",
      "3115\n",
      "3122\n",
      "3129\n",
      "3136\n",
      "3143\n",
      "3157\n",
      "3164\n",
      "3171\n",
      "3178\n",
      "3185\n",
      "3192\n",
      "3199\n"
     ]
    }
   ],
   "source": [
    "#11\n",
    "for a in range(2000, 3201):\n",
    "  if (a%7)==0:\n",
    "        b=a/5\n",
    "        if (b%5)!=0:\n",
    "            print (a)"
   ]
  },
  {
   "cell_type": "code",
   "execution_count": 66,
   "metadata": {},
   "outputs": [
    {
     "name": "stdout",
     "output_type": "stream",
     "text": [
      "25164150\n"
     ]
    }
   ],
   "source": [
    "#12\n",
    "s = 0\n",
    "ss=0\n",
    "for i in range(1, 101):\n",
    "    s = s + i\n",
    "    ss = ss+i**2\n",
    "s = s**2\n",
    "a= s - ss\n",
    "print(a)"
   ]
  },
  {
   "cell_type": "code",
   "execution_count": 82,
   "metadata": {},
   "outputs": [
    {
     "name": "stdout",
     "output_type": "stream",
     "text": [
      "Enter a number: 1\n",
      "Enter a number: 2\n",
      "Enter a number: 3\n",
      "Enter a number: 4\n",
      "Enter a number: 5\n",
      "Enter a number: stop\n",
      "Total : 20.0 \n",
      "Count : 6 \n",
      "Average  3.3333333333333335\n"
     ]
    }
   ],
   "source": [
    "#13(galat hai)\n",
    "n=n1 = 0\n",
    "t = 0.0\n",
    "while True:\n",
    "    n = input(\"Enter a number: \")\n",
    "    if n == 'stop':\n",
    "        break\n",
    "    else:\n",
    "        n1 = float(n)\n",
    "    n1 = n1+1\n",
    "    t = t + n1\n",
    "print (\"Total :\",t,\"\\nCount :\",int(n1),\"\\nAverage \",t/n1)\n",
    "\n"
   ]
  },
  {
   "cell_type": "code",
   "execution_count": 9,
   "metadata": {},
   "outputs": [
    {
     "name": "stdout",
     "output_type": "stream",
     "text": [
      "Enter range: 34\n",
      "Prime numbers between 1 and 34 are:\n",
      "2\n",
      "3\n",
      "5\n",
      "7\n",
      "11\n",
      "13\n",
      "17\n",
      "19\n",
      "23\n",
      "29\n",
      "31\n"
     ]
    }
   ],
   "source": [
    "#14\n",
    "n = int(input(\"Enter range: \"))\n",
    "\n",
    "print(\"Prime numbers between 1 and\",n,\"are:\")\n",
    "\n",
    "for i in range(1,n+1):\n",
    "   if i > 1:\n",
    "       for j in range(2,i):\n",
    "           if (i % j) == 0:\n",
    "               break\n",
    "       else:\n",
    "           print(i)"
   ]
  },
  {
   "cell_type": "code",
   "execution_count": 2,
   "metadata": {},
   "outputs": [
    {
     "name": "stdout",
     "output_type": "stream",
     "text": [
      "Enter a number: 5\n",
      "The factorial of 5 is 120\n"
     ]
    }
   ],
   "source": [
    "#15\n",
    "fact = 1\n",
    "n = int(input(\"Enter a number: \"))\n",
    "if n < 0:\n",
    "   print(\"Sorry, factorial does not exist for negative numbers\")\n",
    "elif n == 0:\n",
    "   print(\"The factorial of 0 is 1\")\n",
    "else:\n",
    "    for i in range(1,n + 1):\n",
    "       fact = fact*i\n",
    "    print(\"The factorial of\",n,\"is\",fact)"
   ]
  },
  {
   "cell_type": "code",
   "execution_count": 21,
   "metadata": {},
   "outputs": [
    {
     "name": "stdout",
     "output_type": "stream",
     "text": [
      "Enter a number: 0\n",
      "The factorial of 0 is 1\n"
     ]
    }
   ],
   "source": [
    "fact = 1\n",
    "n = int(input(\"Enter a number: \"))\n",
    "if n < 0:\n",
    "   print(\"Sorry, factorial does not exist for negative numbers\")\n",
    "elif n == 0:\n",
    "    print(\"The factorial of 0 is 1\")\n",
    "else:\n",
    "    for i in range(1,n + 1):\n",
    "       fact = fact*i\n",
    "    print(\"The factorial of\",n,\"is\",fact)"
   ]
  },
  {
   "cell_type": "code",
   "execution_count": 23,
   "metadata": {},
   "outputs": [
    {
     "name": "stdout",
     "output_type": "stream",
     "text": [
      "Enter a number: -1\n",
      "Factorial does not exist for negative numbers\n"
     ]
    }
   ],
   "source": [
    "fact = 1\n",
    "n = int(input(\"Enter a number: \"))\n",
    "if n < 0:\n",
    "   print(\"Factorial does not exist for negative numbers\")\n",
    "elif n == 0:\n",
    "    print(\"The factorial of 0 is 1\")\n",
    "else:\n",
    "    for i in range(1,n + 1):\n",
    "       fact = fact*i\n",
    "    print(\"The factorial of\",n,\"is\",fact)"
   ]
  },
  {
   "cell_type": "code",
   "execution_count": 7,
   "metadata": {},
   "outputs": [
    {
     "name": "stdout",
     "output_type": "stream",
     "text": [
      "Enter a number: 10\n",
      "0\n",
      "1\n",
      "1\n",
      "2\n",
      "4\n",
      "8\n"
     ]
    }
   ],
   "source": [
    "#16\n",
    "n = int(input(\"Enter a number: \"))\n",
    "x=0\n",
    "y=1\n",
    "print(x)\n",
    "while y<n:\n",
    "    print(y)\n",
    "    y = x+y\n",
    "    x=y"
   ]
  },
  {
   "cell_type": "code",
   "execution_count": 4,
   "metadata": {},
   "outputs": [
    {
     "name": "stdout",
     "output_type": "stream",
     "text": [
      "Enter first number: 3\n",
      "Enter second number: 5\n",
      "LCM of two number is: 15\n"
     ]
    }
   ],
   "source": [
    "#17\n",
    "n1 = int(input(\"Enter first number: \"))\n",
    "n2 = int(input(\"Enter second number: \"))\n",
    " \n",
    "n = min(n1, n2)\n",
    " \n",
    "while(1):\n",
    "    if(n % n1 == 0 and n % n2 == 0):\n",
    "        print(\"LCM of two number is:\", n)\n",
    "        break\n",
    "    n = n+1"
   ]
  },
  {
   "cell_type": "code",
   "execution_count": 13,
   "metadata": {},
   "outputs": [
    {
     "name": "stdout",
     "output_type": "stream",
     "text": [
      "Enter a number: 11\n",
      "11 is prime number\n"
     ]
    }
   ],
   "source": [
    "#18\n",
    "n = int(input(\"Enter a number: \"))\n",
    "c = 0;\n",
    "for i in range(2, n-1):\n",
    "    if n%i == 0:\n",
    "        print(i)\n",
    "        i += 1\n",
    "        c=1\n",
    "if c==0:\n",
    "    print(n,\"is prime number\")"
   ]
  },
  {
   "cell_type": "code",
   "execution_count": 8,
   "metadata": {},
   "outputs": [
    {
     "name": "stdout",
     "output_type": "stream",
     "text": [
      "enter limit:5\n",
      "1\n",
      "3\n",
      "6\n",
      "10\n",
      "15\n",
      "Fibonacci series:  15 15\n"
     ]
    }
   ],
   "source": [
    "a=0\n",
    "b=1\n",
    "n=int(input('enter limit:'))\n",
    "for b in range(1,n+1):\n",
    "    if(b<n+1): \n",
    "        b=a+b\n",
    "        a=b\n",
    "        print(b)\n",
    "    \n",
    "print('Fibonacci series: ',a,b)"
   ]
  },
  {
   "cell_type": "code",
   "execution_count": 14,
   "metadata": {},
   "outputs": [
    {
     "name": "stdout",
     "output_type": "stream",
     "text": [
      "Enter limit10\n",
      "0\n",
      "1\n",
      "1\n",
      "2\n",
      "3\n",
      "5\n",
      "8\n",
      "13\n",
      "21\n",
      "34\n"
     ]
    }
   ],
   "source": [
    "a = 0\n",
    "b = 1\n",
    "n = int(input(\"Enter limit\"))\n",
    "for i in range(0, n):\n",
    "           if(i <= 1):\n",
    "                      n1 = i\n",
    "           else:\n",
    "                      n1 = a + b\n",
    "                      a = b\n",
    "                      b = n1\n",
    "           print(n1)"
   ]
  },
  {
   "cell_type": "code",
   "execution_count": 3,
   "metadata": {},
   "outputs": [
    {
     "name": "stdout",
     "output_type": "stream",
     "text": [
      "*\n",
      "**\n",
      "***\n",
      "****\n",
      "*****\n"
     ]
    }
   ],
   "source": [
    "#19.1\n",
    "for i in range(5):\n",
    "    print('*' * (i+1))"
   ]
  },
  {
   "cell_type": "code",
   "execution_count": 2,
   "metadata": {},
   "outputs": [
    {
     "name": "stdout",
     "output_type": "stream",
     "text": [
      "*******\n",
      "******\n",
      "*****\n",
      "****\n",
      "***\n",
      "**\n",
      "*\n"
     ]
    }
   ],
   "source": [
    "#19.2\n",
    "for i in range(7,0,-1):\n",
    "    print('*' * (i))"
   ]
  },
  {
   "cell_type": "code",
   "execution_count": 5,
   "metadata": {},
   "outputs": [
    {
     "name": "stdout",
     "output_type": "stream",
     "text": [
      "1 \r\n",
      "2 2 \r\n",
      "3 3 3 \r\n",
      "4 4 4 4 \r\n",
      "5 5 5 5 5 \r\n"
     ]
    }
   ],
   "source": [
    "#19.3\n",
    "for num in range (1,6,1):\n",
    "    for i in range(0,num,1):\n",
    "        print (num, end=\" \")\n",
    "    print(\"\\r\")"
   ]
  },
  {
   "cell_type": "code",
   "execution_count": 4,
   "metadata": {},
   "outputs": [
    {
     "name": "stdout",
     "output_type": "stream",
     "text": [
      "      * \r\n",
      "     * * \r\n",
      "    * * * \r\n",
      "   * * * * \r\n"
     ]
    }
   ],
   "source": [
    "#19.4\n",
    "n=4\n",
    "k = 2*n - 2\n",
    "for i in range(0, n): \n",
    "    for j in range(0, k): \n",
    "        print(end=\" \") \n",
    "    k = k - 1\n",
    "    for j in range(0, i+1): \n",
    "        print(\"* \", end=\"\") \n",
    "    print(\"\\r\") "
   ]
  },
  {
   "cell_type": "code",
   "execution_count": 10,
   "metadata": {},
   "outputs": [
    {
     "name": "stdout",
     "output_type": "stream",
     "text": [
      "\r\n",
      "1 \r\n",
      "2 3 \r\n",
      "4 5 6 \r\n",
      "7 8 9 10 \r\n"
     ]
    }
   ],
   "source": [
    "#19.5\n",
    "a=1\n",
    "for i in range(1,6,1):\n",
    "    for j in range(1,i,1):\n",
    "        print(a,end=' ')\n",
    "        a=a+1\n",
    "    print(\"\\r\")"
   ]
  },
  {
   "cell_type": "code",
   "execution_count": 11,
   "metadata": {},
   "outputs": [
    {
     "name": "stdout",
     "output_type": "stream",
     "text": [
      "A  \n",
      "B C  \n",
      "D E F  \n",
      "G H I J  \n"
     ]
    }
   ],
   "source": [
    "#19.6\n",
    "asc=65\n",
    "for i in range(0, 4):\n",
    "    for j in range(0, i+1):\n",
    "        c = chr(asc)\n",
    "        print(c, end=' ')\n",
    "        asc+=1\n",
    "    print(\" \")"
   ]
  },
  {
   "cell_type": "code",
   "execution_count": 57,
   "metadata": {},
   "outputs": [
    {
     "name": "stdout",
     "output_type": "stream",
     "text": [
      "Input an integer : 9\n",
      "9 + 99 + 999 + 9999 = 11106\n"
     ]
    }
   ],
   "source": [
    "#20\n",
    "a = int(input(\"Input an integer : \"))\n",
    "n1 = int(\"%s\" % a)\n",
    "n2 = int(\"%s%s\" % (a,a))\n",
    "n3 = int(\"%s%s%s\" % (a,a,a))\n",
    "n4 = int( \"%s%s%s%s\" % (a,a,a,a) )\n",
    "print (n1,'+',n2,'+',n3,'+',n4,'=',n1+n2+n3+n4)"
   ]
  },
  {
   "cell_type": "markdown",
   "metadata": {},
   "source": [
    "# STRINGS"
   ]
  },
  {
   "cell_type": "code",
   "execution_count": 31,
   "metadata": {},
   "outputs": [
    {
     "name": "stdout",
     "output_type": "stream",
     "text": [
      "Enter String : hello\n",
      "The length of string is 5\n"
     ]
    }
   ],
   "source": [
    "#1\n",
    "def str_len():\n",
    "    s= input(\"Enter String : \")\n",
    "    c=0\n",
    "    for i in s :\n",
    "        c=c+1\n",
    "    print(\"The length of string is\",c)\n",
    "str_len()"
   ]
  },
  {
   "cell_type": "code",
   "execution_count": 20,
   "metadata": {},
   "outputs": [
    {
     "name": "stdout",
     "output_type": "stream",
     "text": [
      "Enter String 1 : nanak\n",
      "Enter String 2 : singh\n"
     ]
    },
    {
     "data": {
      "text/plain": [
       "'nanaksingh'"
      ]
     },
     "execution_count": 20,
     "metadata": {},
     "output_type": "execute_result"
    }
   ],
   "source": [
    "#2\n",
    "def concat():\n",
    "    a=input(\"Enter String 1 : \")\n",
    "    b=input(\"Enter String 2 : \")\n",
    "    return a+b\n",
    "concat()"
   ]
  },
  {
   "cell_type": "code",
   "execution_count": 33,
   "metadata": {},
   "outputs": [
    {
     "name": "stdout",
     "output_type": "stream",
     "text": [
      "Enter String : hello123\n",
      "Alphabets : 5\n",
      "Digits : 3\n"
     ]
    }
   ],
   "source": [
    "#3\n",
    "def num():\n",
    "    a=input(\"Enter String : \")\n",
    "    alpha=0\n",
    "    dig=0\n",
    "    for i in a:\n",
    "        if(ord(i)>=65 and ord(i)<=90)or (ord(i)>=90 and ord(i)<=122):\n",
    "            alpha=alpha+1\n",
    "        elif(ord(i)>=48 and ord(i)<=57):\n",
    "            dig=dig+1\n",
    "        else:\n",
    "            pass\n",
    "    print(\"Alphabets :\",alpha)\n",
    "    print(\"Digits :\",dig)\n",
    "num()"
   ]
  },
  {
   "cell_type": "code",
   "execution_count": 35,
   "metadata": {},
   "outputs": [
    {
     "name": "stdout",
     "output_type": "stream",
     "text": [
      "Enter String : hello\n",
      "h\n",
      "e\n",
      "l\n",
      "l\n",
      "o\n"
     ]
    }
   ],
   "source": [
    "#4\n",
    "def newl():\n",
    "    s= input(\"Enter String : \")\n",
    "    for i in s :\n",
    "        print(i)\n",
    "newl()"
   ]
  },
  {
   "cell_type": "code",
   "execution_count": 24,
   "metadata": {},
   "outputs": [
    {
     "name": "stdout",
     "output_type": "stream",
     "text": [
      "Enter String : hello\n"
     ]
    },
    {
     "data": {
      "text/plain": [
       "'HELLO'"
      ]
     },
     "execution_count": 24,
     "metadata": {},
     "output_type": "execute_result"
    }
   ],
   "source": [
    "#5\n",
    "def toupper():\n",
    "    a=input(\"Enter String : \")\n",
    "    b=a.upper()\n",
    "    return b\n",
    "toupper()"
   ]
  },
  {
   "cell_type": "code",
   "execution_count": 39,
   "metadata": {},
   "outputs": [
    {
     "name": "stdout",
     "output_type": "stream",
     "text": [
      "Enter String : HelLo\n"
     ]
    },
    {
     "data": {
      "text/plain": [
       "('Uppercase :', 2, 'Lowercase :', 3)"
      ]
     },
     "execution_count": 39,
     "metadata": {},
     "output_type": "execute_result"
    }
   ],
   "source": [
    "#6\n",
    "def count(s):\n",
    "    u=0\n",
    "    l=0\n",
    "    for i in s:\n",
    "        if i.isupper():\n",
    "            u=u+1\n",
    "        if i.islower():\n",
    "            l=l+1\n",
    "    return(\"Uppercase :\",u,\"Lowercase :\",l)\n",
    "s= input(\"Enter String : \")\n",
    "count(s)\n",
    "    "
   ]
  },
  {
   "cell_type": "code",
   "execution_count": 40,
   "metadata": {},
   "outputs": [
    {
     "name": "stdout",
     "output_type": "stream",
     "text": [
      "Enter String : my name is nanak\n",
      "y\n",
      "n\n",
      "m\n",
      " \n",
      "s\n",
      "n\n",
      "n\n",
      "k\n"
     ]
    }
   ],
   "source": [
    "#7\n",
    "def even(a):\n",
    "    c=0\n",
    "    for i in a:\n",
    "        c=c+1\n",
    "        if c%2==0:\n",
    "            print(i)\n",
    "s= input(\"Enter String : \")\n",
    "even(s)\n",
    "\n",
    "    \n"
   ]
  },
  {
   "cell_type": "code",
   "execution_count": 46,
   "metadata": {},
   "outputs": [
    {
     "name": "stdout",
     "output_type": "stream",
     "text": [
      "Enter String : hello nanak\n",
      "Enter the letter number from where characters are not to be removed : 3\n",
      "llo nanak"
     ]
    }
   ],
   "source": [
    "#8\n",
    "def remov(s):\n",
    "    c=0\n",
    "    n=int(input(\"Enter the letter number from where characters are not to be removed : \"))\n",
    "    for i in s:\n",
    "        c=c+1\n",
    "        if c<n:\n",
    "            pass\n",
    "        else:\n",
    "            print(i,end=\"\")\n",
    "s= input(\"Enter String : \")\n",
    "remov(s)"
   ]
  },
  {
   "cell_type": "code",
   "execution_count": 55,
   "metadata": {},
   "outputs": [
    {
     "name": "stdout",
     "output_type": "stream",
     "text": [
      "Enter String : HellO\n"
     ]
    },
    {
     "data": {
      "text/plain": [
       "('Swapped Case String is :', 'hELLo')"
      ]
     },
     "execution_count": 55,
     "metadata": {},
     "output_type": "execute_result"
    }
   ],
   "source": [
    "#9\n",
    "def swapcase(s):\n",
    "    c = \"\"\n",
    "    a=len(s)\n",
    "    for i in range(a):\n",
    "        if s[i].isupper():\n",
    "            c = c+s[i].lower() \n",
    "        elif s[i].islower():\n",
    "            c = c+s[i].upper()\n",
    "    return (\"Swapped Case String is :\",c)\n",
    "s= input(\"Enter String : \")\n",
    "swapcase(s)"
   ]
  },
  {
   "cell_type": "code",
   "execution_count": 59,
   "metadata": {},
   "outputs": [
    {
     "name": "stdout",
     "output_type": "stream",
     "text": [
      "Enter String : Hello myself nanak singh\n",
      "Enter character to be searched : a\n"
     ]
    },
    {
     "data": {
      "text/plain": [
       "2"
      ]
     },
     "execution_count": 59,
     "metadata": {},
     "output_type": "execute_result"
    }
   ],
   "source": [
    "#10\n",
    "def count(s) : \n",
    "    a= input(\"Enter character to be searched : \")\n",
    "    c = 0\n",
    "    z=len(s)\n",
    "    for i in range(z):\n",
    "        if (s[i] == a): \n",
    "            c = c + 1\n",
    "    return c\n",
    "s= input(\"Enter String : \")\n",
    "count(s)"
   ]
  },
  {
   "cell_type": "code",
   "execution_count": 69,
   "metadata": {},
   "outputs": [
    {
     "name": "stdout",
     "output_type": "stream",
     "text": [
      "Enter String : nanan\n",
      "Palindrome\n"
     ]
    }
   ],
   "source": [
    "#11\n",
    "def pali(s):\n",
    "    a = \"\" \n",
    "    for i in s: \n",
    "        a = i + a \n",
    "    if (a==s): \n",
    "        print(\"Palindrome\") \n",
    "    else:\n",
    "        print(\"Not a Palindrome\")\n",
    "s= input(\"Enter String : \")\n",
    "pali(s)"
   ]
  },
  {
   "cell_type": "code",
   "execution_count": 70,
   "metadata": {},
   "outputs": [
    {
     "name": "stdout",
     "output_type": "stream",
     "text": [
      "Enter String : nanak\n",
      "Not a Palindrome\n"
     ]
    }
   ],
   "source": [
    "def pali(s):\n",
    "    a = \"\" \n",
    "    for i in s: \n",
    "        a = i + a #order important\n",
    "    if (s==a): \n",
    "        print(\"Palindrome\") \n",
    "    else:\n",
    "        print(\"Not a Palindrome\")\n",
    "s= input(\"Enter String : \")\n",
    "pali(s)"
   ]
  },
  {
   "cell_type": "markdown",
   "metadata": {},
   "source": [
    "# 12(Galat hai)"
   ]
  },
  {
   "cell_type": "code",
   "execution_count": 74,
   "metadata": {},
   "outputs": [
    {
     "name": "stdout",
     "output_type": "stream",
     "text": [
      "Enter String 1 : qaz\n",
      "Enter String 2 : zaq\n",
      "not an anagram\n",
      "not an anagram\n",
      "q is present\n",
      "not an anagram\n",
      "a is present\n",
      "not an anagram\n",
      "z is present\n",
      "not an anagram\n",
      "not an anagram\n"
     ]
    }
   ],
   "source": [
    "#12(Galat hai)\n",
    "def anagram(s,a):\n",
    "    c=d=0\n",
    "    x=len(s)\n",
    "    y=len(a)\n",
    "    if x==y:\n",
    "        for i in s :\n",
    "            for j in a:\n",
    "                if i==j:\n",
    "                    print(i, \"is present\")\n",
    "                else:\n",
    "                    print(\"not an anagram\")\n",
    "s= input(\"Enter String 1 : \")\n",
    "a= input(\"Enter String 2 : \")\n",
    "anagram(s,a)"
   ]
  },
  {
   "cell_type": "markdown",
   "metadata": {},
   "source": [
    "# 13 nhi ho rha"
   ]
  },
  {
   "cell_type": "code",
   "execution_count": null,
   "metadata": {},
   "outputs": [],
   "source": []
  },
  {
   "cell_type": "markdown",
   "metadata": {},
   "source": [
    "# 14(galat hai)"
   ]
  },
  {
   "cell_type": "code",
   "execution_count": 92,
   "metadata": {},
   "outputs": [
    {
     "name": "stdout",
     "output_type": "stream",
     "text": [
      "Enter String : nanan\n"
     ]
    },
    {
     "data": {
      "text/plain": [
       "'nanaa'"
      ]
     },
     "execution_count": 92,
     "metadata": {},
     "output_type": "execute_result"
    }
   ],
   "source": [
    "#14(galat hai)\n",
    "def exchange1n(s):\n",
    "    a=len(s)\n",
    "    i=0\n",
    "    c=''\n",
    "    d=''\n",
    "    q=''\n",
    "    for i in s:\n",
    "        if i==0:\n",
    "            c=i;\n",
    "        elif i==a-1:\n",
    "            d=i\n",
    "        else:\n",
    "            q=q+i\n",
    "    ns=s[-1]+s[1:-1]+s[1]\n",
    "    return(ns)\n",
    "s= input(\"Enter String : \")\n",
    "exchange1n(s)"
   ]
  },
  {
   "cell_type": "code",
   "execution_count": 102,
   "metadata": {},
   "outputs": [
    {
     "name": "stdout",
     "output_type": "stream",
     "text": [
      "Enter String : nsk\n",
      "nanan\n"
     ]
    }
   ],
   "source": [
    "qs= input(\"Enter String : \")\n",
    "zs=s[len(qs)-1]+s[1:-1]+s[0]\n",
    "print(zs)"
   ]
  },
  {
   "cell_type": "code",
   "execution_count": 107,
   "metadata": {},
   "outputs": [
    {
     "name": "stdout",
     "output_type": "stream",
     "text": [
      "Enter String : nanak\n",
      "afd\n"
     ]
    }
   ],
   "source": [
    "str= input(\"Enter String : \")\n",
    "str1[-1:] + str1[1:-1] + str1[:1]\n",
    "print(str1)"
   ]
  },
  {
   "cell_type": "code",
   "execution_count": 31,
   "metadata": {},
   "outputs": [
    {
     "name": "stdout",
     "output_type": "stream",
     "text": [
      "Enter String : nanak singh khurana\n",
      "Enter Index Number : 2\n",
      "Enter character : q\n",
      "nqnak singh khurana\n"
     ]
    }
   ],
   "source": [
    "#15\n",
    "s = input(\"Enter String : \")\n",
    "n = int(input(\"Enter Index Number : \"))\n",
    "c = input(\"Enter character : \")\n",
    "d=''\n",
    "q=0\n",
    "for i in s:\n",
    "    q=q+1\n",
    "    if q!=n:\n",
    "        d=d+i\n",
    "    else:\n",
    "        d=d+c\n",
    "print(d)"
   ]
  },
  {
   "cell_type": "code",
   "execution_count": 32,
   "metadata": {},
   "outputs": [
    {
     "name": "stdout",
     "output_type": "stream",
     "text": [
      "Enter String : nanak\n",
      "Enter String : a\n",
      "2\n"
     ]
    }
   ],
   "source": [
    "#16\n",
    "str = input(\"Enter String : \")\n",
    "s=input(\"Enter String : \")\n",
    "print(str.count(s))"
   ]
  },
  {
   "cell_type": "markdown",
   "metadata": {},
   "source": [
    "# 17 nhi hua"
   ]
  },
  {
   "cell_type": "code",
   "execution_count": null,
   "metadata": {},
   "outputs": [],
   "source": []
  },
  {
   "cell_type": "code",
   "execution_count": 38,
   "metadata": {},
   "outputs": [
    {
     "name": "stdout",
     "output_type": "stream",
     "text": [
      "Enter Binary Number : 1011\n",
      "Enter number of 1's: 3\n",
      "False\n"
     ]
    }
   ],
   "source": [
    "#18 \n",
    "s = input(\"Enter Binary Number : \")\n",
    "k = int(input(\"Enter number of 1's: \"))\n",
    "i = '1' * k  \n",
    "if i in s: \n",
    "    print(\"True\") \n",
    "else: \n",
    "    print(\"False\")"
   ]
  },
  {
   "cell_type": "code",
   "execution_count": 39,
   "metadata": {},
   "outputs": [
    {
     "name": "stdout",
     "output_type": "stream",
     "text": [
      "Enter Binary Number : 101111\n",
      "Enter number of 1's: 4\n",
      "True\n"
     ]
    }
   ],
   "source": [
    "s = input(\"Enter Binary Number : \")\n",
    "k = int(input(\"Enter number of 1's: \"))\n",
    "i = '1' * k  \n",
    "if i in s: \n",
    "    print(\"True\") \n",
    "else: \n",
    "    print(\"False\")"
   ]
  },
  {
   "cell_type": "code",
   "execution_count": 47,
   "metadata": {},
   "outputs": [
    {
     "name": "stdout",
     "output_type": "stream",
     "text": [
      "Enter String : nanak\n",
      "The reverse string is : kanan\n"
     ]
    }
   ],
   "source": [
    "#19\n",
    "s = input(\"Enter String : \")\n",
    "print (\"The reverse string is : \",end=\"\")  \n",
    "a = \"\" \n",
    "for i in s: \n",
    "    a = i + a\n",
    "print(a)"
   ]
  },
  {
   "cell_type": "markdown",
   "metadata": {},
   "source": [
    "# 20 nhi hua"
   ]
  },
  {
   "cell_type": "code",
   "execution_count": null,
   "metadata": {},
   "outputs": [],
   "source": []
  },
  {
   "cell_type": "code",
   "execution_count": 52,
   "metadata": {},
   "outputs": [
    {
     "name": "stdout",
     "output_type": "stream",
     "text": [
      "Enter String : nanak\n",
      "Enter SubString : s\n",
      "not substring\n"
     ]
    }
   ],
   "source": [
    "#21\n",
    "s =input(\"Enter String : \")\n",
    "ss =input(\"Enter SubString : \")\n",
    "if (s.find(ss) == -1): \n",
    "    print(\"not substring\") \n",
    "else: \n",
    "    print(\"is substring\")"
   ]
  },
  {
   "cell_type": "markdown",
   "metadata": {},
   "source": [
    "# 22 nhi hua"
   ]
  },
  {
   "cell_type": "markdown",
   "metadata": {},
   "source": [
    "# Functions : 1"
   ]
  },
  {
   "cell_type": "code",
   "execution_count": 10,
   "metadata": {},
   "outputs": [
    {
     "name": "stdout",
     "output_type": "stream",
     "text": [
      "Enter the base : 3\n",
      "Enter the power : 4\n"
     ]
    },
    {
     "data": {
      "text/plain": [
       "81"
      ]
     },
     "execution_count": 10,
     "metadata": {},
     "output_type": "execute_result"
    }
   ],
   "source": [
    "#1\n",
    "def pow(a,b):\n",
    "    return x**y\n",
    "x=int(input(\"Enter the base : \"))\n",
    "y=int(input(\"Enter the power : \"))\n",
    "pow(x,y)"
   ]
  },
  {
   "cell_type": "code",
   "execution_count": 11,
   "metadata": {},
   "outputs": [
    {
     "name": "stdout",
     "output_type": "stream",
     "text": [
      "Enter string 1 : nanak\n",
      "Enter string 2 : singh\n"
     ]
    },
    {
     "data": {
      "text/plain": [
       "'nanaksingh'"
      ]
     },
     "execution_count": 11,
     "metadata": {},
     "output_type": "execute_result"
    }
   ],
   "source": [
    "#2\n",
    "def concat(a='Hello',b='world'):\n",
    "    return a+b\n",
    "a=input(\"Enter string 1 : \")\n",
    "b=input(\"Enter string 2 : \")\n",
    "concat(a,b)"
   ]
  },
  {
   "cell_type": "code",
   "execution_count": 13,
   "metadata": {},
   "outputs": [
    {
     "name": "stdout",
     "output_type": "stream",
     "text": [
      "Enter string 1 : nanak\n",
      "Enter string 2 : singh\n"
     ]
    },
    {
     "data": {
      "text/plain": [
       "'Helloworld'"
      ]
     },
     "execution_count": 13,
     "metadata": {},
     "output_type": "execute_result"
    }
   ],
   "source": [
    "def concat(a='Hello',b='world'):\n",
    "    return a+b\n",
    "a=input(\"Enter string 1 : \")\n",
    "b=input(\"Enter string 2 : \")\n",
    "concat()"
   ]
  },
  {
   "cell_type": "code",
   "execution_count": 14,
   "metadata": {},
   "outputs": [
    {
     "name": "stdout",
     "output_type": "stream",
     "text": [
      "Enter the number : 4\n",
      "True\n"
     ]
    }
   ],
   "source": [
    "#3\n",
    "def even():\n",
    "    x=int(input(\"Enter the number : \"))\n",
    "    if x%2==0:\n",
    "        print(bool(1))\n",
    "    else:\n",
    "        print(bool(0))\n",
    "even()\n"
   ]
  },
  {
   "cell_type": "code",
   "execution_count": 15,
   "metadata": {},
   "outputs": [
    {
     "name": "stdout",
     "output_type": "stream",
     "text": [
      "Enter the number : 5\n",
      "False\n"
     ]
    }
   ],
   "source": [
    "def even():\n",
    "    x=int(input(\"Enter the number : \"))\n",
    "    if x%2==0:\n",
    "        print(bool(1))\n",
    "    else:\n",
    "        print(bool(0))\n",
    "even()\n"
   ]
  },
  {
   "cell_type": "code",
   "execution_count": 16,
   "metadata": {},
   "outputs": [
    {
     "name": "stdout",
     "output_type": "stream",
     "text": [
      "Enter the number : 5\n",
      "True\n"
     ]
    }
   ],
   "source": [
    "#4\n",
    "def prime():\n",
    "    a=int(input(\"Enter the number : \"))\n",
    "    if a > 1:\n",
    "       for i in range(2,a):\n",
    "           if (a % i) == 0:\n",
    "               print(bool(0))\n",
    "               break\n",
    "       else:\n",
    "           print(bool(1))\n",
    "       \n",
    "    else:\n",
    "       print(bool(0))\n",
    "prime()"
   ]
  },
  {
   "cell_type": "code",
   "execution_count": 17,
   "metadata": {},
   "outputs": [
    {
     "name": "stdout",
     "output_type": "stream",
     "text": [
      "Enter the number : 6\n",
      "False\n"
     ]
    }
   ],
   "source": [
    "def prime():\n",
    "    a=int(input(\"Enter the number : \"))\n",
    "    if a > 1:\n",
    "       for i in range(2,a):\n",
    "           if (a % i) == 0:\n",
    "               print(bool(0))\n",
    "               break\n",
    "       else:\n",
    "           print(bool(1))\n",
    "       \n",
    "    else:\n",
    "       print(bool(0))\n",
    "prime()"
   ]
  },
  {
   "cell_type": "code",
   "execution_count": 18,
   "metadata": {},
   "outputs": [
    {
     "name": "stdout",
     "output_type": "stream",
     "text": [
      "Enter String : nanan\n",
      "True\n"
     ]
    }
   ],
   "source": [
    "#5\n",
    "def pali(s):\n",
    "    a = \"\" \n",
    "    for i in s: \n",
    "        a = i + a #order imp\n",
    "    if (a==s): \n",
    "        print(bool(1)) \n",
    "    else:\n",
    "        print(bool(0))\n",
    "s= input(\"Enter String : \")\n",
    "pali(s)"
   ]
  },
  {
   "cell_type": "code",
   "execution_count": 19,
   "metadata": {},
   "outputs": [
    {
     "name": "stdout",
     "output_type": "stream",
     "text": [
      "Enter String : nanak\n",
      "False\n"
     ]
    }
   ],
   "source": [
    "def pali(s):\n",
    "    a = \"\" \n",
    "    for i in s: \n",
    "        a = i + a #order imp\n",
    "    if (a==s): \n",
    "        print(bool(1)) \n",
    "    else:\n",
    "        print(bool(0))\n",
    "s= input(\"Enter String : \")\n",
    "pali(s)"
   ]
  },
  {
   "cell_type": "markdown",
   "metadata": {},
   "source": [
    "# 6th galat hai"
   ]
  },
  {
   "cell_type": "code",
   "execution_count": 21,
   "metadata": {},
   "outputs": [
    {
     "name": "stdout",
     "output_type": "stream",
     "text": [
      "Enter the string: 5\n",
      "1\n"
     ]
    }
   ],
   "source": [
    "#6(galat hai)\n",
    "def words():\n",
    "    z=' '\n",
    "    a=input(\"Enter the string: \")\n",
    "    c=0\n",
    "    for i in a:\n",
    "        if i==z:\n",
    "            c=c+1\n",
    "    print(c+1)\n",
    "words() "
   ]
  },
  {
   "cell_type": "code",
   "execution_count": 22,
   "metadata": {},
   "outputs": [
    {
     "name": "stdout",
     "output_type": "stream",
     "text": [
      "Enter the number : 5\n",
      "Enter the number : 4\n",
      "Enter the number : 1\n"
     ]
    },
    {
     "data": {
      "text/plain": [
       "5"
      ]
     },
     "execution_count": 22,
     "metadata": {},
     "output_type": "execute_result"
    }
   ],
   "source": [
    "#7\n",
    "def large():\n",
    "    a=int(input(\"Enter the number : \"))\n",
    "    b=int(input(\"Enter the number : \"))\n",
    "    c=int(input(\"Enter the number : \"))\n",
    "    if a>b & a>c:\n",
    "        return a\n",
    "    elif b>a & b>c:\n",
    "        return b\n",
    "    else:\n",
    "        return c\n",
    "large()"
   ]
  },
  {
   "cell_type": "markdown",
   "metadata": {},
   "source": [
    "# 8 nhi aata"
   ]
  },
  {
   "cell_type": "code",
   "execution_count": null,
   "metadata": {},
   "outputs": [],
   "source": []
  },
  {
   "cell_type": "code",
   "execution_count": 2,
   "metadata": {},
   "outputs": [
    {
     "name": "stdout",
     "output_type": "stream",
     "text": [
      "Enter a number : 79879\n",
      "97897"
     ]
    }
   ],
   "source": [
    "#9\n",
    "def rev():\n",
    "    x=int(input(\"Enter a number : \"))\n",
    "    for i in range(x):\n",
    "            c=x%10\n",
    "            x=x/10\n",
    "            int(x)\n",
    "            if x>0.1:\n",
    "                print(int(c),end='')\n",
    "            else:\n",
    "                pass\n",
    "rev()"
   ]
  },
  {
   "cell_type": "code",
   "execution_count": 31,
   "metadata": {},
   "outputs": [
    {
     "name": "stdout",
     "output_type": "stream",
     "text": [
      "Enter the number : 6\n",
      "Enter the number : 5\n",
      "Enter the number : 3\n"
     ]
    },
    {
     "data": {
      "text/plain": [
       "6"
      ]
     },
     "execution_count": 31,
     "metadata": {},
     "output_type": "execute_result"
    }
   ],
   "source": [
    "#10\n",
    "def large():\n",
    "    a=int(input(\"Enter the number : \"))\n",
    "    b=int(input(\"Enter the number : \"))\n",
    "    c=int(input(\"Enter the number : \"))\n",
    "    if a>b & a>c:\n",
    "        return a\n",
    "    elif b>a & b>c:\n",
    "        return b\n",
    "    else:\n",
    "        return c\n",
    "large()"
   ]
  },
  {
   "cell_type": "code",
   "execution_count": 30,
   "metadata": {},
   "outputs": [
    {
     "name": "stdout",
     "output_type": "stream",
     "text": [
      "Enter the numbers : 0894725020\n",
      "5894725525"
     ]
    }
   ],
   "source": [
    "#11\n",
    "def rep0by5(a):\n",
    "    for i in a:\n",
    "        if i=='0':\n",
    "            i='5'\n",
    "            print(i,end='')\n",
    "        else:\n",
    "            print(i,end='')\n",
    "a=input(\"Enter the numbers : \")\n",
    "rep0by5(a)"
   ]
  },
  {
   "cell_type": "code",
   "execution_count": 49,
   "metadata": {},
   "outputs": [
    {
     "name": "stdout",
     "output_type": "stream",
     "text": [
      "Enter the number whole table is required : 5\n",
      "5 * 1 = 5\n",
      "5 * 2 = 10\n",
      "5 * 3 = 15\n",
      "5 * 4 = 20\n",
      "5 * 5 = 25\n",
      "5 * 6 = 30\n",
      "5 * 7 = 35\n",
      "5 * 8 = 40\n",
      "5 * 9 = 45\n",
      "5 * 10 = 50\n"
     ]
    }
   ],
   "source": [
    "#12\n",
    "def multiplication_table():\n",
    "    b=int(input(\"Enter the number whole table is required : \"))\n",
    "    for i in range(1,11):\n",
    "      s=b*i \n",
    "      print(b,'*',i,'=',s)\n",
    "multiplication_table()"
   ]
  },
  {
   "cell_type": "code",
   "execution_count": 5,
   "metadata": {},
   "outputs": [
    {
     "name": "stdout",
     "output_type": "stream",
     "text": [
      "Enter a number : 431\n",
      "8\n"
     ]
    }
   ],
   "source": [
    "#13\n",
    "def sumno():\n",
    "    z=0\n",
    "    x=int(input(\"Enter a number : \"))\n",
    "    for i in range(x):\n",
    "            c=x%10\n",
    "            x=x/10\n",
    "            z=z+int(c)\n",
    "            \n",
    "    print(z)\n",
    "sumno()"
   ]
  },
  {
   "cell_type": "code",
   "execution_count": 20,
   "metadata": {},
   "outputs": [
    {
     "name": "stdout",
     "output_type": "stream",
     "text": [
      "Enter a string: nanak@#$ingh\n",
      "nanakingh\n"
     ]
    }
   ],
   "source": [
    "#14\n",
    "def nopunc():\n",
    "    p = '''!()-[]{};:'\"\\,<>./?@#$%^&*_~'''\n",
    "    a = input(\"Enter a string: \")\n",
    "    np = \"\"\n",
    "    for i in a:\n",
    "        if i not in p:\n",
    "            np = np + i\n",
    "    print(np)\n",
    "nopunc()"
   ]
  },
  {
   "cell_type": "markdown",
   "metadata": {},
   "source": [
    "# 15 nhi hua"
   ]
  },
  {
   "cell_type": "code",
   "execution_count": null,
   "metadata": {},
   "outputs": [],
   "source": []
  },
  {
   "cell_type": "markdown",
   "metadata": {},
   "source": [
    "# 16 nhi hua"
   ]
  },
  {
   "cell_type": "code",
   "execution_count": null,
   "metadata": {},
   "outputs": [],
   "source": []
  },
  {
   "cell_type": "code",
   "execution_count": 3,
   "metadata": {},
   "outputs": [
    {
     "name": "stdout",
     "output_type": "stream",
     "text": [
      "Enter a number : 45783\n",
      "38754"
     ]
    }
   ],
   "source": [
    "#17\n",
    "def rev():\n",
    "    x=int(input(\"Enter a number : \"))\n",
    "    for i in range(x):\n",
    "            c=x%10\n",
    "            x=x/10\n",
    "            int(x)\n",
    "            if x>0.1:\n",
    "                print(int(c),end='')\n",
    "            else:\n",
    "                pass\n",
    "rev()"
   ]
  },
  {
   "cell_type": "markdown",
   "metadata": {},
   "source": [
    "# 18 nhi hua"
   ]
  },
  {
   "cell_type": "code",
   "execution_count": 2,
   "metadata": {},
   "outputs": [],
   "source": [
    "#time pass"
   ]
  },
  {
   "cell_type": "code",
   "execution_count": 5,
   "metadata": {},
   "outputs": [
    {
     "name": "stdout",
     "output_type": "stream",
     "text": [
      "+ - - - - + - - - - +\n",
      "|         |         |\n",
      "|         |         |\n",
      "|         |         |\n",
      "|         |         |\n",
      "+ - - - - + - - - - +\n",
      "|         |         |\n",
      "|         |         |\n",
      "|         |         |\n",
      "|         |         |\n",
      "+ - - - - + - - - - +\n"
     ]
    }
   ],
   "source": [
    "\n",
    "print(\"+ - - - - + - - - - +\")\n",
    "print(\"|         |         |\")\n",
    "print(\"|         |         |\")\n",
    "print(\"|         |         |\")\n",
    "print(\"|         |         |\")\n",
    "print(\"+ - - - - + - - - - +\")\n",
    "print(\"|         |         |\")\n",
    "print(\"|         |         |\")\n",
    "print(\"|         |         |\")\n",
    "print(\"|         |         |\")\n",
    "print(\"+ - - - - + - - - - +\")"
   ]
  },
  {
   "cell_type": "markdown",
   "metadata": {},
   "source": [
    "# lists"
   ]
  },
  {
   "cell_type": "code",
   "execution_count": 79,
   "metadata": {},
   "outputs": [
    {
     "name": "stdout",
     "output_type": "stream",
     "text": [
      "4\n",
      "3\n",
      "2\n",
      "1\n"
     ]
    }
   ],
   "source": [
    "#1\n",
    "a=[1,2,3,4]\n",
    "for i in range(len(a)-1,-1,-1):\n",
    "    print(a[i])"
   ]
  },
  {
   "cell_type": "code",
   "execution_count": 81,
   "metadata": {},
   "outputs": [
    {
     "name": "stdout",
     "output_type": "stream",
     "text": [
      "enter the number to be searched : 7\n",
      "number found on  7\n"
     ]
    }
   ],
   "source": [
    "#2\n",
    "a=[1,2,3,4,5,6,7,8,9]\n",
    "z=int(input(\"enter the number to be searched : \"))\n",
    "for i in range(len(a)-1):\n",
    "    if a[i]==z:\n",
    "        print(\"number found on \",i+1)\n",
    "    else:\n",
    "        pass"
   ]
  },
  {
   "cell_type": "code",
   "execution_count": 82,
   "metadata": {},
   "outputs": [
    {
     "name": "stdout",
     "output_type": "stream",
     "text": [
      "1 found\n",
      "2 found\n",
      "3 found\n"
     ]
    }
   ],
   "source": [
    "#3\n",
    "a=[1,2,3,4,5,6,7,8,9]\n",
    "b=[1,2,3]\n",
    "for i in range(len(a)-1):\n",
    "    for j in range(len(b)):\n",
    "        if(a[i]==b[j]):\n",
    "            print(a[i],\"found\")\n",
    "        else:\n",
    "            pass"
   ]
  },
  {
   "cell_type": "code",
   "execution_count": 86,
   "metadata": {
    "scrolled": true
   },
   "outputs": [
    {
     "name": "stdout",
     "output_type": "stream",
     "text": [
      "Initial List : [1, 2, 3, 4, 5, 6, 7, 8, 9]\n",
      "enter the number to be inserted : 5\n",
      "enter the position : 3\n",
      "[1, 2, 5, 4, 5, 6, 7, 8, 9]\n"
     ]
    }
   ],
   "source": [
    "#4\n",
    "a=[1,2,3,4,5,6,7,8,9]\n",
    "print(\"Initial List :\",a)\n",
    "n=int(input(\"enter the number to be inserted : \"))\n",
    "k=int(input(\"enter the position : \"))\n",
    "for i in range(len(a)-1):\n",
    "    if i==(k-1):\n",
    "        a[i]=n\n",
    "    else:\n",
    "        pass\n",
    "print(a)"
   ]
  },
  {
   "cell_type": "code",
   "execution_count": 2,
   "metadata": {},
   "outputs": [
    {
     "name": "stdout",
     "output_type": "stream",
     "text": [
      "Enter the times number to be entered : 5\n",
      "Enter the number to be entered : 3\n",
      "Enter the number to be entered : 2\n",
      "Enter the number to be entered : 5\n",
      "Enter the number to be entered : 4\n",
      "Enter the number to be entered : 1\n",
      "String is : [3, 2, 5, 4, 1]\n",
      "revere string is : [1, 4, 5, 2, 3]\n"
     ]
    }
   ],
   "source": [
    "#5\n",
    "a= []\n",
    "b=[]\n",
    "d=int(input(\"Enter the times number to be entered : \"))\n",
    "for i in range (0,d):\n",
    "    c=int(input(\"Enter the number to be entered : \"))\n",
    "    a.append(c)\n",
    "print(\"String is :\",a)\n",
    "print(\"revere string is : \",end='')\n",
    "for i in range(len(a)-1,-1,-1):\n",
    "    b.append(a[i])\n",
    "print(b)"
   ]
  },
  {
   "cell_type": "code",
   "execution_count": 1,
   "metadata": {},
   "outputs": [
    {
     "name": "stdout",
     "output_type": "stream",
     "text": [
      "232792560\n"
     ]
    }
   ],
   "source": [
    "#6\n",
    "i=1 #output will take time\n",
    "while (i %  2 != 0 or i %  3 != 0 or i %  4 != 0 or i %  5 != 0 or\n",
    "         i %  6 != 0 or i %  7 != 0 or i %  8 != 0 or i %  9 != 0 or\n",
    "         i % 10 != 0 or i % 11 != 0 or i % 12 != 0 or i % 13 != 0 or\n",
    "         i % 14 != 0 or i % 15 != 0 or i % 16 != 0 or i % 17 != 0 or\n",
    "         i % 18 != 0 or i % 19 != 0 or i % 20 != 0 ):\n",
    "    i=i+1\n",
    "print(i)"
   ]
  },
  {
   "cell_type": "code",
   "execution_count": 1,
   "metadata": {},
   "outputs": [
    {
     "name": "stdout",
     "output_type": "stream",
     "text": [
      "[1, 3, 5, 8, 10, 12]\n"
     ]
    }
   ],
   "source": [
    "#7\n",
    "a=[1,2,3,4,5,6]\n",
    "b=[7,8,9,10,11,12]\n",
    "c=[]\n",
    "for i in a:\n",
    "    if i%2 !=0:\n",
    "        c.append(i)\n",
    "    else:\n",
    "        pass\n",
    "for j in b:\n",
    "    if j %2 == 0:\n",
    "        c.append(j)\n",
    "    else:\n",
    "        pass\n",
    "print(c)"
   ]
  },
  {
   "cell_type": "code",
   "execution_count": 15,
   "metadata": {},
   "outputs": [],
   "source": [
    "#8"
   ]
  },
  {
   "cell_type": "code",
   "execution_count": 22,
   "metadata": {},
   "outputs": [
    {
     "name": "stdout",
     "output_type": "stream",
     "text": [
      "Sorted a : [1, 1, 2, 2, 3, 5, 5]\n",
      "1\n",
      "2\n",
      "3\n"
     ]
    }
   ],
   "source": [
    "#9(galat hai)\n",
    "a=[1,2,3,1,5,2,5]\n",
    "a.sort()\n",
    "print('Sorted a :',a)\n",
    "for i in range (len(a)-1):\n",
    "    if a[i+1]==a[i]:\n",
    "        pass\n",
    "    else:\n",
    "        print(a[i])"
   ]
  },
  {
   "cell_type": "code",
   "execution_count": 3,
   "metadata": {},
   "outputs": [
    {
     "name": "stdout",
     "output_type": "stream",
     "text": [
      "Sorted a : [1, 2, 3, 4, 6]\n",
      "max= 3\n"
     ]
    }
   ],
   "source": [
    "#10\n",
    "c=0\n",
    "a = [1,2,3,6,4] \n",
    "a.sort()\n",
    "print(\"Sorted a :\",a)\n",
    "for i in range (len(a)-1):\n",
    "    if a[i+1]-a[i]<=1:\n",
    "        c=c+1\n",
    "    else:\n",
    "        pass\n",
    "print('max=',c)"
   ]
  },
  {
   "cell_type": "code",
   "execution_count": 30,
   "metadata": {},
   "outputs": [
    {
     "name": "stdout",
     "output_type": "stream",
     "text": [
      "Enter the times number to be entered : 5\n",
      "Enter the number to be entered : 1\n",
      "Enter the number to be entered : 3\n",
      "Enter the number to be entered : 4\n",
      "Enter the number to be entered : 6\n",
      "Enter the number to be entered : 2\n"
     ]
    },
    {
     "data": {
      "text/plain": [
       "[1, 9, 16, 36, 4]"
      ]
     },
     "execution_count": 30,
     "metadata": {},
     "output_type": "execute_result"
    }
   ],
   "source": [
    "#11\n",
    "def square(a):\n",
    "    b=[]\n",
    "    for i in a:\n",
    "        b.append(i*i)\n",
    "    return b\n",
    "a= []\n",
    "d=int(input(\"Enter the times number to be entered : \"))\n",
    "for i in range (0,d):\n",
    "    c=int(input(\"Enter the number to be entered : \"))\n",
    "    a.append(c)\n",
    "square(a)\n",
    "    "
   ]
  },
  {
   "cell_type": "code",
   "execution_count": 35,
   "metadata": {},
   "outputs": [
    {
     "name": "stdout",
     "output_type": "stream",
     "text": [
      "Enter the times number to be entered : 5\n",
      "Enter the number to be entered : 1\n",
      "Enter the number to be entered : 2\n",
      "Enter the number to be entered : 3\n",
      "Enter the number to be entered : 4\n",
      "Enter the number to be entered : 6\n",
      "2\n",
      "3\n",
      "4\n",
      "6\n"
     ]
    }
   ],
   "source": [
    "#12\n",
    "a= []\n",
    "d=int(input(\"Enter the times number to be entered : \"))\n",
    "for i in range (0,d):\n",
    "    c=int(input(\"Enter the number to be entered : \"))\n",
    "    a.append(c)\n",
    "a.sort()\n",
    "b=a[0]\n",
    "for i in a:\n",
    "    if i>(b*b):\n",
    "        print(i)\n",
    "    else:\n",
    "        pass\n",
    "    "
   ]
  },
  {
   "cell_type": "code",
   "execution_count": 28,
   "metadata": {},
   "outputs": [
    {
     "name": "stdout",
     "output_type": "stream",
     "text": [
      "Enter the times number to be entered : 4\n",
      "Enter the number to be entered : 5\n",
      "Enter the number to be entered : 8\n",
      "Enter the number to be entered : 1\n",
      "Enter the number to be entered : 4\n",
      "sorted list is : [1, 4, 5, 8]\n",
      "Minimum number is 1\n",
      "max is : 8\n"
     ]
    }
   ],
   "source": [
    "#13\n",
    "a= []\n",
    "d=int(input(\"Enter the times number to be entered : \"))\n",
    "for i in range (0,d):\n",
    "    c=int(input(\"Enter the number to be entered : \"))\n",
    "    a.append(c)\n",
    "a.sort()\n",
    "print(\"sorted list is :\",a)\n",
    "print(\"Minimum number is\",a[0])\n",
    "print(\"max is :\",a[len(a)-1])"
   ]
  },
  {
   "cell_type": "code",
   "execution_count": 1,
   "metadata": {},
   "outputs": [],
   "source": [
    "#tuple"
   ]
  },
  {
   "cell_type": "code",
   "execution_count": 2,
   "metadata": {},
   "outputs": [
    {
     "name": "stdout",
     "output_type": "stream",
     "text": [
      "(1, 2.6, 'python')\n"
     ]
    }
   ],
   "source": [
    "#1\n",
    "mytuple = 1,2.6,'python'\n",
    "print(mytuple)"
   ]
  },
  {
   "cell_type": "code",
   "execution_count": 3,
   "metadata": {},
   "outputs": [
    {
     "name": "stdout",
     "output_type": "stream",
     "text": [
      "1\n",
      "2.6\n",
      "python\n"
     ]
    }
   ],
   "source": [
    "#2\n",
    "a,b,c=mytuple\n",
    "print(a)\n",
    "print(b)\n",
    "print(c)"
   ]
  },
  {
   "cell_type": "code",
   "execution_count": 13,
   "metadata": {},
   "outputs": [
    {
     "name": "stdout",
     "output_type": "stream",
     "text": [
      "(1, 2, 3, 4)\n",
      "enter the variable to be enteredhello\n",
      "(1, 2, 3, 4, 'hello')\n"
     ]
    }
   ],
   "source": [
    "#3\n",
    "mytuple = 1,2,3,4 \n",
    "print(mytuple)\n",
    "a=input(\"enter the variable to be entered\")\n",
    "q=list(mytuple)\n",
    "q.append(a)\n",
    "mytuple=tuple(q)\n",
    "print(mytuple)"
   ]
  },
  {
   "cell_type": "code",
   "execution_count": 1,
   "metadata": {},
   "outputs": [
    {
     "name": "stdout",
     "output_type": "stream",
     "text": [
      "Enter the times number to be entered : 5\n",
      "Enter the number to be entered : 1\n",
      "Enter the number to be entered : 2\n",
      "Enter the number to be entered : 3\n",
      "Enter the number to be entered : 4\n",
      "Enter the number to be entered : 5\n",
      "(1, 2, 3, 4, 5)\n"
     ]
    }
   ],
   "source": [
    "##input a tuple\n",
    "d=int(input(\"Enter the times number to be entered : \"))\n",
    "a=[]\n",
    "for i in range (0,d):\n",
    "    c=int(input(\"Enter the number to be entered : \"))\n",
    "    a.append(c)\n",
    "q=tuple(a)\n",
    "print(q)"
   ]
  },
  {
   "cell_type": "code",
   "execution_count": 1,
   "metadata": {},
   "outputs": [
    {
     "name": "stdout",
     "output_type": "stream",
     "text": [
      "Enter the times number to be entered : 6\n",
      "Enter the number to be entered : 3\n",
      "Enter the number to be entered : 2\n",
      "Enter the number to be entered : 4\n",
      "Enter the number to be entered : 5\n",
      "Enter the number to be entered : 1\n",
      "Enter the number to be entered : 2\n",
      "(3, 2, 4, 5, 1, 2)\n"
     ]
    }
   ],
   "source": [
    "tup = () \n",
    "d=int(input(\"Enter the times number to be entered : \"))\n",
    "for i in range(0,d):\n",
    "    c=int(input(\"Enter the number to be entered : \"))\n",
    "    tup = tup + (c,)\n",
    "print(tup)"
   ]
  },
  {
   "cell_type": "code",
   "execution_count": null,
   "metadata": {},
   "outputs": [],
   "source": [
    "##4\n",
    "d=int(input(\"Enter the times number to be entered : \"))\n",
    "a=[]\n",
    "for i in range (0,d):\n",
    "    c=input(\"Enter the number to be entered : \")\n",
    "    a.append(c)\n",
    "q=tuple(a)\n",
    "print(\"Tuple is :\",q)\n",
    "s =  ''.join(q)\n",
    "print(\"String is :\",s)"
   ]
  },
  {
   "cell_type": "code",
   "execution_count": 8,
   "metadata": {},
   "outputs": [
    {
     "name": "stdout",
     "output_type": "stream",
     "text": [
      "Enter the times number to be entered : 5\n",
      "Enter the number to be entered : 1\n",
      "Enter the number to be entered : 3\n",
      "Enter the number to be entered : 1\n",
      "Enter the number to be entered : 5\n",
      "Enter the number to be entered : 3\n",
      "Tuple is : (1, 3, 1, 5, 3)\n",
      "2\n"
     ]
    }
   ],
   "source": [
    "#5\n",
    "tup = () \n",
    "z=0\n",
    "x=0\n",
    "d=int(input(\"Enter the times number to be entered : \"))\n",
    "for i in range(0,d):\n",
    "    c=int(input(\"Enter the number to be entered : \"))\n",
    "    tup = tup + (c,)\n",
    "print(\"Tuple is :\",tup)\n",
    "for i in tup:\n",
    "    x=x+1\n",
    "    for j in tup[x:]:\n",
    "        if i==j:\n",
    "            z=z+1\n",
    "print(z)"
   ]
  },
  {
   "cell_type": "code",
   "execution_count": 1,
   "metadata": {},
   "outputs": [
    {
     "name": "stdout",
     "output_type": "stream",
     "text": [
      "Enter the times number to be entered : 5\n",
      "Enter the number to be entered : 1\n",
      "Enter the number to be entered : 3\n",
      "Enter the number to be entered : 4\n",
      "Enter the number to be entered : 5\n",
      "Enter the number to be entered : 1\n",
      "(1, 3, 4, 5, 1)\n",
      "enter number to be searched:3\n",
      "The number is in the tuple\n"
     ]
    }
   ],
   "source": [
    "#6\n",
    "tup = () \n",
    "g=0\n",
    "d=int(input(\"Enter the times number to be entered : \"))\n",
    "for i in range(0,d):\n",
    "    c=int(input(\"Enter the number to be entered : \"))\n",
    "    tup = tup + (c,)\n",
    "print(tup)\n",
    "x=int(input(\"enter number to be searched:\"))\n",
    "for i in tup:\n",
    "    if i==x:\n",
    "        g=1\n",
    "        print(\"The number is in the tuple\")\n",
    "    else:\n",
    "        pass\n",
    "if g==0:\n",
    "    print(\"Can't find the number in the tuple\")"
   ]
  },
  {
   "cell_type": "code",
   "execution_count": 3,
   "metadata": {},
   "outputs": [
    {
     "name": "stdout",
     "output_type": "stream",
     "text": [
      "Enter the times number to be entered : 5\n",
      "Enter the number to be entered : 4\n",
      "Enter the number to be entered : 3\n",
      "Enter the number to be entered : 5\n",
      "Enter the number to be entered : 7\n",
      "Enter the number to be entered : 2\n",
      "(4, 3, 5, 7, 2)\n",
      "enter number to be searched:0\n",
      "Can't find the number in the tuple\n"
     ]
    }
   ],
   "source": [
    "#6\n",
    "tup = () \n",
    "g=0\n",
    "d=int(input(\"Enter the times number to be entered : \"))\n",
    "for i in range(0,d):\n",
    "    c=int(input(\"Enter the number to be entered : \"))\n",
    "    tup = tup + (c,)\n",
    "print(tup)\n",
    "x=int(input(\"enter number to be searched:\"))\n",
    "for i in tup:\n",
    "    if i==x:\n",
    "        g=1\n",
    "        print(\"The number is in the tuple\")\n",
    "    else:\n",
    "        pass\n",
    "if g==0:\n",
    "    print(\"Can't find the number in the tuple\")"
   ]
  },
  {
   "cell_type": "code",
   "execution_count": 8,
   "metadata": {},
   "outputs": [
    {
     "name": "stdout",
     "output_type": "stream",
     "text": [
      "Enter the times number to be entered : 5\n",
      "enter the variable to be entered :4\n",
      "enter the variable to be entered :3\n",
      "enter the variable to be entered :3\n",
      "enter the variable to be entered :6\n",
      "enter the variable to be entered :2\n",
      "[4, 3, 3, 6, 2]\n",
      "(4, 3, 3, 6, 2)\n"
     ]
    }
   ],
   "source": [
    "#7\n",
    "q=[]\n",
    "d=int(input(\"Enter the times number to be entered : \"))\n",
    "for i in range(0,d):\n",
    "    a=int(input(\"enter the variable to be entered :\"))\n",
    "    q.append(a)\n",
    "print(q)\n",
    "mytuple=tuple(q)\n",
    "print(mytuple)"
   ]
  },
  {
   "cell_type": "code",
   "execution_count": 3,
   "metadata": {},
   "outputs": [
    {
     "name": "stdout",
     "output_type": "stream",
     "text": [
      "tuple is : (1, 2, 3, 4, 5, 6)\n",
      "enter the variable to be removed :5\n",
      "(1, 2, 3, 4, 6)\n"
     ]
    }
   ],
   "source": [
    "#8\n",
    "a=(1,2,3,4,5,6)\n",
    "print(\"tuple is :\",a)\n",
    "c=int(input(\"enter the variable to be removed :\"))\n",
    "q=list(a)\n",
    "q.remove(c)\n",
    "a=tuple(q)\n",
    "print(a)"
   ]
  },
  {
   "cell_type": "code",
   "execution_count": 8,
   "metadata": {},
   "outputs": [
    {
     "name": "stdout",
     "output_type": "stream",
     "text": [
      "enter number :3\n",
      "Number not found tuple\n"
     ]
    }
   ],
   "source": [
    "#9\n",
    "#wrong output got it right on next one\n",
    "a=1,9,3,4,5\n",
    "c=0\n",
    "x=0\n",
    "z=int(input(\"enter number :\"))\n",
    "for i in a:\n",
    "    if a==z:\n",
    "        c=c+1\n",
    "        x=1\n",
    "        print(\"index is \",c)\n",
    "    else:\n",
    "        pass\n",
    "if x==0:\n",
    "    print(\"Number not found tuple\")"
   ]
  },
  {
   "cell_type": "code",
   "execution_count": 10,
   "metadata": {},
   "outputs": [
    {
     "name": "stdout",
     "output_type": "stream",
     "text": [
      "enter number :5\n",
      "index is  5\n"
     ]
    }
   ],
   "source": [
    "#9\n",
    "a=1,9,3,4,5\n",
    "c=0\n",
    "x=0\n",
    "z=int(input(\"enter number :\"))\n",
    "for i in range(len(a)):\n",
    "    if a[i]==z:\n",
    "        c=c+1\n",
    "        x=1\n",
    "        print(\"index is \",(i+1))\n",
    "    else:\n",
    "        pass\n",
    "if x==0:\n",
    "    print(\"Number not found tuple\")"
   ]
  },
  {
   "cell_type": "code",
   "execution_count": 12,
   "metadata": {},
   "outputs": [
    {
     "name": "stdout",
     "output_type": "stream",
     "text": [
      "Enter the times number to be entered : 5\n",
      "Enter the number to be entered : 4\n",
      "Enter the number to be entered : 6\n",
      "Enter the number to be entered : 7\n",
      "Enter the number to be entered : 8\n",
      "Enter the number to be entered : 1\n",
      "Original tuple is : (4, 6, 7, 8, 1)\n",
      "Reverse tuple is : (1, 8, 7, 6, 4)\n"
     ]
    }
   ],
   "source": [
    "#10\n",
    "tup = () \n",
    "d=int(input(\"Enter the times number to be entered : \"))\n",
    "for i in range(0,d):\n",
    "    c=int(input(\"Enter the number to be entered : \"))\n",
    "    tup = tup + (c,)\n",
    "print(\"Original tuple is :\",tup)\n",
    "rev=tup[::-1]\n",
    "print(\"Reverse tuple is :\",rev)"
   ]
  },
  {
   "cell_type": "code",
   "execution_count": 13,
   "metadata": {},
   "outputs": [],
   "source": [
    "#dictionary"
   ]
  },
  {
   "cell_type": "code",
   "execution_count": 16,
   "metadata": {},
   "outputs": [
    {
     "name": "stdout",
     "output_type": "stream",
     "text": [
      "{1: 1, 2: 4, 3: 9, 4: 16, 5: 25, 6: 36, 7: 49, 8: 64, 9: 81, 10: 100}\n"
     ]
    }
   ],
   "source": [
    "#11\n",
    "d={}\n",
    "for i in range(1,11):\n",
    "    d[i]=i**2\n",
    "print(d)  "
   ]
  },
  {
   "cell_type": "code",
   "execution_count": 22,
   "metadata": {},
   "outputs": [],
   "source": [
    "#d={}\n",
    "#help(d)"
   ]
  },
  {
   "cell_type": "code",
   "execution_count": 21,
   "metadata": {},
   "outputs": [
    {
     "name": "stdout",
     "output_type": "stream",
     "text": [
      "{1: 10, 2: 20, 3: 30, 4: 40, 5: 50, 6: 60}\n"
     ]
    }
   ],
   "source": [
    "#14\n",
    "d1={1:10, 2:20}\n",
    "d2={3:30, 4:40}\n",
    "d3={5:50,6:60}\n",
    "d4 = {}\n",
    "for d in (d1, d2, d3): \n",
    "    d4.update(d)\n",
    "print(d4)"
   ]
  },
  {
   "cell_type": "code",
   "execution_count": null,
   "metadata": {},
   "outputs": [],
   "source": []
  }
 ],
 "metadata": {
  "kernelspec": {
   "display_name": "Python 3",
   "language": "python",
   "name": "python3"
  },
  "language_info": {
   "codemirror_mode": {
    "name": "ipython",
    "version": 3
   },
   "file_extension": ".py",
   "mimetype": "text/x-python",
   "name": "python",
   "nbconvert_exporter": "python",
   "pygments_lexer": "ipython3",
   "version": "3.7.0"
  }
 },
 "nbformat": 4,
 "nbformat_minor": 2
}
