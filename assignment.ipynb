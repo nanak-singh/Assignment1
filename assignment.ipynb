{
 "cells": [
  {
   "cell_type": "code",
   "execution_count": 1,
   "metadata": {},
   "outputs": [
    {
     "name": "stdout",
     "output_type": "stream",
     "text": [
      "Enter the First Namehello python\n"
     ]
    }
   ],
   "source": [
    "#1\n",
    "a = input(\"Enter the First Name\")"
   ]
  },
  {
   "cell_type": "code",
   "execution_count": 2,
   "metadata": {},
   "outputs": [
    {
     "name": "stdout",
     "output_type": "stream",
     "text": [
      "Enter the Last Namepypy\n"
     ]
    }
   ],
   "source": [
    "b = input(\"Enter the Last Name\")"
   ]
  },
  {
   "cell_type": "code",
   "execution_count": 3,
   "metadata": {},
   "outputs": [
    {
     "name": "stdout",
     "output_type": "stream",
     "text": [
      "pypy   hello python\n"
     ]
    }
   ],
   "source": [
    "print(b,' ',a)"
   ]
  },
  {
   "cell_type": "code",
   "execution_count": 31,
   "metadata": {},
   "outputs": [
    {
     "name": "stdout",
     "output_type": "stream",
     "text": [
      "no. 11\n",
      "no. 22\n",
      "no. 33\n"
     ]
    }
   ],
   "source": [
    "#2\n",
    "x=y=z=0\n",
    "x= int(input(\"no. 1\"))\n",
    "y= int(input(\"no. 2\"))\n",
    "z= int(input(\"no. 3\"))"
   ]
  },
  {
   "cell_type": "code",
   "execution_count": 33,
   "metadata": {},
   "outputs": [
    {
     "name": "stdout",
     "output_type": "stream",
     "text": [
      "1 2 3\n"
     ]
    }
   ],
   "source": [
    "print(x,y,z)"
   ]
  },
  {
   "cell_type": "code",
   "execution_count": 34,
   "metadata": {},
   "outputs": [],
   "source": [
    "d = x+y+z"
   ]
  },
  {
   "cell_type": "code",
   "execution_count": 35,
   "metadata": {},
   "outputs": [
    {
     "name": "stdout",
     "output_type": "stream",
     "text": [
      "6\n"
     ]
    }
   ],
   "source": [
    "print(d)"
   ]
  },
  {
   "cell_type": "code",
   "execution_count": 36,
   "metadata": {},
   "outputs": [],
   "source": [
    "e= d/3"
   ]
  },
  {
   "cell_type": "code",
   "execution_count": 37,
   "metadata": {},
   "outputs": [
    {
     "name": "stdout",
     "output_type": "stream",
     "text": [
      "2.0\n"
     ]
    }
   ],
   "source": [
    "print(e)"
   ]
  },
  {
   "cell_type": "code",
   "execution_count": 2,
   "metadata": {},
   "outputs": [
    {
     "name": "stdout",
     "output_type": "stream",
     "text": [
      "enter1\n",
      "enter2\n"
     ]
    }
   ],
   "source": [
    "#3\n",
    "x = int(input('enter'))\n",
    "y = int(input('enter'))"
   ]
  },
  {
   "cell_type": "code",
   "execution_count": 10,
   "metadata": {},
   "outputs": [],
   "source": [
    "z=(x+y)*(x+y)"
   ]
  },
  {
   "cell_type": "code",
   "execution_count": 67,
   "metadata": {},
   "outputs": [
    {
     "name": "stdout",
     "output_type": "stream",
     "text": [
      "\" 30 + 20 = 50 \"\n"
     ]
    }
   ],
   "source": [
    "#4\n",
    "x=30\n",
    "y=20\n",
    "\n",
    "print('\"',x,'+',y,'=',x+y,'\"')"
   ]
  },
  {
   "cell_type": "code",
   "execution_count": 1,
   "metadata": {},
   "outputs": [
    {
     "name": "stdout",
     "output_type": "stream",
     "text": [
      "enter your name : abc\n",
      "enter your age : 68\n"
     ]
    }
   ],
   "source": [
    "#5\n",
    "a= input(\"enter your name : \")\n",
    "b= int(input(\"enter your age : \"))"
   ]
  },
  {
   "cell_type": "code",
   "execution_count": 4,
   "metadata": {},
   "outputs": [
    {
     "name": "stdout",
     "output_type": "stream",
     "text": [
      "32  Years are left for abc to be 100 years old\n"
     ]
    }
   ],
   "source": [
    "c=100-b\n",
    "print(c,' Years are left for',a,'to be 100 years old')"
   ]
  },
  {
   "cell_type": "code",
   "execution_count": 10,
   "metadata": {},
   "outputs": [
    {
     "name": "stdout",
     "output_type": "stream",
     "text": [
      "Enter the Radius :3\n"
     ]
    }
   ],
   "source": [
    "#6\n",
    "r=float(input(\"Enter the Radius :\"))"
   ]
  },
  {
   "cell_type": "code",
   "execution_count": 16,
   "metadata": {},
   "outputs": [
    {
     "name": "stdout",
     "output_type": "stream",
     "text": [
      "113.03999999999998\n"
     ]
    }
   ],
   "source": [
    "pi=3.14\n",
    "v=4/3*pi*r*r*r\n",
    "print(v)"
   ]
  },
  {
   "cell_type": "code",
   "execution_count": 17,
   "metadata": {},
   "outputs": [
    {
     "name": "stdout",
     "output_type": "stream",
     "text": [
      "enter side 1 :10\n",
      "enter side 2 :20\n"
     ]
    }
   ],
   "source": [
    "#7\n",
    "a=float(input(\"enter side 1 :\"))\n",
    "b=float(input(\"enter side 2 :\"))"
   ]
  },
  {
   "cell_type": "code",
   "execution_count": 18,
   "metadata": {},
   "outputs": [
    {
     "name": "stdout",
     "output_type": "stream",
     "text": [
      "22.360679774997898\n"
     ]
    }
   ],
   "source": [
    "c=(a*a+b*b)**0.5\n",
    "print(c)"
   ]
  },
  {
   "cell_type": "code",
   "execution_count": 19,
   "metadata": {},
   "outputs": [
    {
     "name": "stdout",
     "output_type": "stream",
     "text": [
      "enter x1 : 1\n",
      "enter x2 : 2\n",
      "enter y1 : 3\n",
      "enter y2 : 1\n"
     ]
    }
   ],
   "source": [
    "#8\n",
    "x1=float(input(\"enter x1 : \"))\n",
    "x2=float(input(\"enter x2 : \"))\n",
    "y1=float(input(\"enter y1 : \"))\n",
    "y2=float(input(\"enter y2 : \"))"
   ]
  },
  {
   "cell_type": "code",
   "execution_count": 25,
   "metadata": {},
   "outputs": [
    {
     "name": "stdout",
     "output_type": "stream",
     "text": [
      "2.23606797749979\n"
     ]
    }
   ],
   "source": [
    "c=x2-x1\n",
    "d=y2-y1\n",
    "a=(c**2+d**2)**0.5\n",
    "print(a)"
   ]
  },
  {
   "cell_type": "code",
   "execution_count": 29,
   "metadata": {},
   "outputs": [
    {
     "name": "stdout",
     "output_type": "stream",
     "text": [
      "Enter a number : 5\n",
      "False\n"
     ]
    }
   ],
   "source": [
    "#9\n",
    "a=int(input(\"Enter a number : \"))\n",
    "if a%2==0 :\n",
    "    print(\"True\")\n",
    "else :\n",
    "    print(\"False\")"
   ]
  },
  {
   "cell_type": "code",
   "execution_count": 28,
   "metadata": {},
   "outputs": [
    {
     "name": "stdout",
     "output_type": "stream",
     "text": [
      "Enter a number : 2\n",
      "True\n"
     ]
    }
   ],
   "source": [
    "a=int(input(\"Enter a number : \"))\n",
    "if a%2==0 :\n",
    "    print(\"True\")\n",
    "else :\n",
    "    print(\"False\")"
   ]
  },
  {
   "cell_type": "code",
   "execution_count": 32,
   "metadata": {},
   "outputs": [
    {
     "name": "stdout",
     "output_type": "stream",
     "text": [
      "Enter a number : 3\n",
      "Enter a number : 4\n",
      "Entered numbers are\n",
      "3   4\n",
      "Swapped\n",
      "4   3\n"
     ]
    }
   ],
   "source": [
    "#10\n",
    "x=int(input(\"Enter a number : \"))\n",
    "y=int(input(\"Enter a number : \"))\n",
    "print(\"Entered numbers are\")\n",
    "print(x,' ',y)\n",
    "c=x\n",
    "x=y\n",
    "y=c\n",
    "print(\"Swapped\")\n",
    "print(x,' ',y)"
   ]
  },
  {
   "cell_type": "code",
   "execution_count": 33,
   "metadata": {},
   "outputs": [
    {
     "name": "stdout",
     "output_type": "stream",
     "text": [
      "Enter a number : 2\n",
      "Even\n"
     ]
    }
   ],
   "source": [
    "#1\n",
    "a=int(input(\"Enter a number : \"))\n",
    "if a%2==0 :\n",
    "    print(\"Even\")\n",
    "else :\n",
    "    print(\"Odd\")"
   ]
  },
  {
   "cell_type": "code",
   "execution_count": 34,
   "metadata": {},
   "outputs": [
    {
     "name": "stdout",
     "output_type": "stream",
     "text": [
      "Enter a number : 7\n",
      "Odd\n"
     ]
    }
   ],
   "source": [
    "a=int(input(\"Enter a number : \"))\n",
    "if a%2==0 :\n",
    "    print(\"Even\")\n",
    "else :\n",
    "    print(\"Odd\")"
   ]
  },
  {
   "cell_type": "code",
   "execution_count": 36,
   "metadata": {},
   "outputs": [
    {
     "name": "stdout",
     "output_type": "stream",
     "text": [
      "Enter a number : 4\n",
      "2.0\n"
     ]
    }
   ],
   "source": [
    "#2\n",
    "a=float(input(\"Enter a number : \"))\n",
    "b=a**0.5\n",
    "print(b)"
   ]
  },
  {
   "cell_type": "code",
   "execution_count": 39,
   "metadata": {},
   "outputs": [
    {
     "name": "stdout",
     "output_type": "stream",
     "text": [
      "Enter a number : 10\n"
     ]
    }
   ],
   "source": [
    "#3\n",
    "z=int(input(\"Enter a number : \"))"
   ]
  },
  {
   "cell_type": "code",
   "execution_count": 40,
   "metadata": {},
   "outputs": [
    {
     "name": "stdout",
     "output_type": "stream",
     "text": [
      "1\n",
      "2\n",
      "3\n",
      "4\n",
      "5\n",
      "6\n",
      "7\n",
      "8\n",
      "9\n",
      "10\n",
      "reverse order : \n",
      "10\n",
      "9\n",
      "8\n",
      "7\n",
      "6\n",
      "5\n",
      "4\n",
      "3\n",
      "2\n",
      "1\n"
     ]
    }
   ],
   "source": [
    "for i in range (1,z+1,1):\n",
    "   print(i)\n",
    "print(\"reverse order : \")\n",
    "for i in range (z,0,-1):\n",
    "   print(i)"
   ]
  },
  {
   "cell_type": "code",
   "execution_count": 50,
   "metadata": {},
   "outputs": [
    {
     "name": "stdout",
     "output_type": "stream",
     "text": [
      "Even Numbers : \n",
      "2\n",
      "4\n",
      "6\n",
      "8\n",
      "10\n",
      "12\n",
      "14\n",
      "16\n",
      "18\n",
      "20\n",
      "22\n",
      "24\n",
      "26\n",
      "28\n",
      "30\n",
      "32\n",
      "34\n",
      "36\n",
      "38\n",
      "40\n",
      "42\n",
      "44\n",
      "46\n",
      "48\n",
      "50\n",
      "52\n",
      "54\n",
      "56\n",
      "58\n",
      "60\n",
      "62\n",
      "64\n",
      "66\n",
      "68\n",
      "70\n",
      "72\n",
      "74\n",
      "76\n",
      "78\n",
      "80\n",
      "82\n",
      "84\n",
      "86\n",
      "88\n",
      "90\n",
      "92\n",
      "94\n",
      "96\n",
      "98\n"
     ]
    }
   ],
   "source": [
    "#4\n",
    "print(\"Even Numbers : \")\n",
    "for i in range (2,100,2):\n",
    "   print(i)"
   ]
  },
  {
   "cell_type": "code",
   "execution_count": 52,
   "metadata": {},
   "outputs": [
    {
     "name": "stdout",
     "output_type": "stream",
     "text": [
      "Odd numbers :\n",
      "1\n",
      "3\n",
      "5\n",
      "7\n",
      "9\n",
      "11\n",
      "13\n",
      "15\n",
      "17\n",
      "19\n",
      "21\n",
      "23\n",
      "25\n",
      "27\n",
      "29\n",
      "31\n",
      "33\n",
      "35\n",
      "37\n",
      "39\n",
      "41\n",
      "43\n",
      "45\n",
      "47\n",
      "49\n",
      "51\n",
      "53\n",
      "55\n",
      "57\n",
      "59\n",
      "61\n",
      "63\n",
      "65\n",
      "67\n",
      "69\n",
      "71\n",
      "73\n",
      "75\n",
      "77\n",
      "79\n",
      "81\n",
      "83\n",
      "85\n",
      "87\n",
      "89\n",
      "91\n",
      "93\n",
      "95\n",
      "97\n",
      "99\n"
     ]
    }
   ],
   "source": [
    "print(\"Odd numbers :\")\n",
    "for i in range (1,100,2):\n",
    "   print(i)"
   ]
  },
  {
   "cell_type": "code",
   "execution_count": 53,
   "metadata": {},
   "outputs": [
    {
     "name": "stdout",
     "output_type": "stream",
     "text": [
      "Enter a,b,c in quadratic equation \n",
      "Enter a : 1\n",
      "Enter b : 3\n",
      "Enter c : 1\n"
     ]
    }
   ],
   "source": [
    "#5\n",
    "print(\"Enter a,b,c in quadratic equation \")\n",
    "a=int(input(\"Enter a : \"))\n",
    "b=int(input(\"Enter b : \"))\n",
    "c=int(input(\"Enter c : \"))"
   ]
  },
  {
   "cell_type": "code",
   "execution_count": 54,
   "metadata": {},
   "outputs": [
    {
     "name": "stdout",
     "output_type": "stream",
     "text": [
      "the solutions are  -0.3819660112501051  and  -2.618033988749895\n"
     ]
    }
   ],
   "source": [
    "d=(b*b-4*a*c)**0.5\n",
    "d1=(-b+d)/2*a\n",
    "d2=(-b-d)/2*a\n",
    "print(\"the solutions are \",d1,\" and \",d2)"
   ]
  },
  {
   "cell_type": "code",
   "execution_count": 6,
   "metadata": {},
   "outputs": [
    {
     "name": "stdout",
     "output_type": "stream",
     "text": [
      "Enter a number:7315\n",
      "number of digits in  7315  are  4\n"
     ]
    }
   ],
   "source": [
    "#6\n",
    "n=int(input(\"Enter a number:\"))\n",
    "q=n\n",
    "c=0\n",
    "while(n>0):\n",
    "    c=c+1\n",
    "    n=n//10\n",
    "print(\"number of digits in \",q,\" are \",c)"
   ]
  },
  {
   "cell_type": "code",
   "execution_count": 59,
   "metadata": {},
   "outputs": [
    {
     "name": "stdout",
     "output_type": "stream",
     "text": [
      "Please enter the number: 4\n"
     ]
    }
   ],
   "source": [
    "#7\n",
    "a = int(input(\"Please enter the number: \"))"
   ]
  },
  {
   "cell_type": "code",
   "execution_count": 64,
   "metadata": {},
   "outputs": [
    {
     "name": "stdout",
     "output_type": "stream",
     "text": [
      "4 is not a prime number\n"
     ]
    }
   ],
   "source": [
    "if a > 1:\n",
    "   for i in range(2,a):\n",
    "       if (a % i) == 0:\n",
    "           print(a,\"is not a prime number\")\n",
    "           break\n",
    "   else:\n",
    "       print(a,\"is a prime number\")\n",
    "       \n",
    "else:\n",
    "   print(a,\"is not a prime number\")\n"
   ]
  },
  {
   "cell_type": "code",
   "execution_count": 65,
   "metadata": {},
   "outputs": [
    {
     "name": "stdout",
     "output_type": "stream",
     "text": [
      "Please enter the number: 7\n"
     ]
    }
   ],
   "source": [
    "a = int(input(\"Please enter the number: \"))"
   ]
  },
  {
   "cell_type": "code",
   "execution_count": 66,
   "metadata": {},
   "outputs": [
    {
     "name": "stdout",
     "output_type": "stream",
     "text": [
      "7 is a prime number\n"
     ]
    }
   ],
   "source": [
    "if a > 1:\n",
    "   for i in range(2,a):\n",
    "       if (a % i) == 0:\n",
    "           print(a,\"is not a prime number\")\n",
    "           break\n",
    "   else:\n",
    "       print(a,\"is a prime number\")\n",
    "       \n",
    "else:\n",
    "   print(a,\"is not a prime number\")\n"
   ]
  },
  {
   "cell_type": "code",
   "execution_count": 5,
   "metadata": {},
   "outputs": [
    {
     "name": "stdout",
     "output_type": "stream",
     "text": [
      "Input a number: 11\n",
      "Numbers : \n",
      "3\n",
      "5\n",
      "6\n",
      "9\n",
      "10\n",
      "Sum =  33\n"
     ]
    }
   ],
   "source": [
    "#8\n",
    "n = int(input('Input a number: '))\n",
    "c=0\n",
    "print(\"Numbers : \")\n",
    "for i in range(1,n+1):\n",
    "    if i % 3 == 0:\n",
    "        c = c + i\n",
    "        print(i)\n",
    "    elif i % 5 == 0:\n",
    "        c = c + i\n",
    "        print(i)\n",
    "print (\"Sum = \" ,c)\n"
   ]
  },
  {
   "cell_type": "code",
   "execution_count": 8,
   "metadata": {},
   "outputs": [
    {
     "name": "stdout",
     "output_type": "stream",
     "text": [
      "Input a number: 5\n",
      "Input 1 for sum and 2 for product: 1\n",
      "15\n"
     ]
    }
   ],
   "source": [
    "#9\n",
    "n = int(input('Input a number: '))\n",
    "a = int(input('Input 1 for sum and 2 for product: '))\n",
    "c=0\n",
    "if a==1:\n",
    "    for i in range(1,n+1):\n",
    "        c=c+i\n",
    "elif a==2:\n",
    "    c=1\n",
    "    for i in range (1,n+1):\n",
    "        c=c*i\n",
    "else :\n",
    "    print(\"Wrong input\")\n",
    "print(c)\n",
    "        \n",
    "        \n"
   ]
  },
  {
   "cell_type": "code",
   "execution_count": 9,
   "metadata": {},
   "outputs": [
    {
     "name": "stdout",
     "output_type": "stream",
     "text": [
      "Input a number: 3\n",
      "Input 1 for sum and 2 for product: 2\n",
      "6\n"
     ]
    }
   ],
   "source": [
    "n = int(input('Input a number: '))\n",
    "a = int(input('Input 1 for sum and 2 for product: '))\n",
    "c=0\n",
    "if a==1:\n",
    "    for i in range(1,n+1):\n",
    "        c=c+i\n",
    "elif a==2:\n",
    "    c=1\n",
    "    for i in range (1,n+1):\n",
    "        c=c*i\n",
    "else :\n",
    "    print(\"Wrong input\")\n",
    "print(c)\n",
    "        \n",
    "        \n"
   ]
  },
  {
   "cell_type": "code",
   "execution_count": 15,
   "metadata": {},
   "outputs": [
    {
     "name": "stdout",
     "output_type": "stream",
     "text": [
      "233168\n"
     ]
    }
   ],
   "source": [
    "#10\n",
    "s=0\n",
    "for i in range(1,1000) :\n",
    "      if i%3==0 or  i%5==0:\n",
    "             s+=i\n",
    "print(s)"
   ]
  },
  {
   "cell_type": "code",
   "execution_count": 2,
   "metadata": {},
   "outputs": [
    {
     "name": "stdout",
     "output_type": "stream",
     "text": [
      "2002\n",
      "2009\n",
      "2016\n",
      "2023\n",
      "2030\n",
      "2037\n",
      "2044\n",
      "2051\n",
      "2058\n",
      "2065\n",
      "2072\n",
      "2079\n",
      "2086\n",
      "2093\n",
      "2107\n",
      "2114\n",
      "2121\n",
      "2128\n",
      "2135\n",
      "2142\n",
      "2149\n",
      "2156\n",
      "2163\n",
      "2170\n",
      "2177\n",
      "2184\n",
      "2191\n",
      "2198\n",
      "2205\n",
      "2212\n",
      "2219\n",
      "2226\n",
      "2233\n",
      "2240\n",
      "2247\n",
      "2254\n",
      "2261\n",
      "2268\n",
      "2282\n",
      "2289\n",
      "2296\n",
      "2303\n",
      "2310\n",
      "2317\n",
      "2324\n",
      "2331\n",
      "2338\n",
      "2345\n",
      "2352\n",
      "2359\n",
      "2366\n",
      "2373\n",
      "2380\n",
      "2387\n",
      "2394\n",
      "2401\n",
      "2408\n",
      "2415\n",
      "2422\n",
      "2429\n",
      "2436\n",
      "2443\n",
      "2457\n",
      "2464\n",
      "2471\n",
      "2478\n",
      "2485\n",
      "2492\n",
      "2499\n",
      "2506\n",
      "2513\n",
      "2520\n",
      "2527\n",
      "2534\n",
      "2541\n",
      "2548\n",
      "2555\n",
      "2562\n",
      "2569\n",
      "2576\n",
      "2583\n",
      "2590\n",
      "2597\n",
      "2604\n",
      "2611\n",
      "2618\n",
      "2632\n",
      "2639\n",
      "2646\n",
      "2653\n",
      "2660\n",
      "2667\n",
      "2674\n",
      "2681\n",
      "2688\n",
      "2695\n",
      "2702\n",
      "2709\n",
      "2716\n",
      "2723\n",
      "2730\n",
      "2737\n",
      "2744\n",
      "2751\n",
      "2758\n",
      "2765\n",
      "2772\n",
      "2779\n",
      "2786\n",
      "2793\n",
      "2807\n",
      "2814\n",
      "2821\n",
      "2828\n",
      "2835\n",
      "2842\n",
      "2849\n",
      "2856\n",
      "2863\n",
      "2870\n",
      "2877\n",
      "2884\n",
      "2891\n",
      "2898\n",
      "2905\n",
      "2912\n",
      "2919\n",
      "2926\n",
      "2933\n",
      "2940\n",
      "2947\n",
      "2954\n",
      "2961\n",
      "2968\n",
      "2982\n",
      "2989\n",
      "2996\n",
      "3003\n",
      "3010\n",
      "3017\n",
      "3024\n",
      "3031\n",
      "3038\n",
      "3045\n",
      "3052\n",
      "3059\n",
      "3066\n",
      "3073\n",
      "3080\n",
      "3087\n",
      "3094\n",
      "3101\n",
      "3108\n",
      "3115\n",
      "3122\n",
      "3129\n",
      "3136\n",
      "3143\n",
      "3157\n",
      "3164\n",
      "3171\n",
      "3178\n",
      "3185\n",
      "3192\n",
      "3199\n"
     ]
    }
   ],
   "source": [
    "#11\n",
    "for a in range(2000, 3201):\n",
    "  if (a%7)==0:\n",
    "        b=a/5\n",
    "        if (b%5)!=0:\n",
    "            print (a)"
   ]
  },
  {
   "cell_type": "code",
   "execution_count": 66,
   "metadata": {},
   "outputs": [
    {
     "name": "stdout",
     "output_type": "stream",
     "text": [
      "25164150\n"
     ]
    }
   ],
   "source": [
    "#12\n",
    "s = 0\n",
    "ss=0\n",
    "for i in range(1, 101):\n",
    "    s = s + i\n",
    "    ss = ss+i**2\n",
    "s = s**2\n",
    "a= s - ss\n",
    "print(a)"
   ]
  },
  {
   "cell_type": "code",
   "execution_count": 82,
   "metadata": {},
   "outputs": [
    {
     "name": "stdout",
     "output_type": "stream",
     "text": [
      "Enter a number: 1\n",
      "Enter a number: 2\n",
      "Enter a number: 3\n",
      "Enter a number: 4\n",
      "Enter a number: 5\n",
      "Enter a number: stop\n",
      "Total : 20.0 \n",
      "Count : 6 \n",
      "Average  3.3333333333333335\n"
     ]
    }
   ],
   "source": [
    "#13(galat hai)\n",
    "n=n1 = 0\n",
    "t = 0.0\n",
    "while True:\n",
    "    n = input(\"Enter a number: \")\n",
    "    if n == 'stop':\n",
    "        break\n",
    "    else:\n",
    "        n1 = float(n)\n",
    "    n1 = n1+1\n",
    "    t = t + n1\n",
    "print (\"Total :\",t,\"\\nCount :\",int(n1),\"\\nAverage \",t/n1)\n",
    "\n"
   ]
  },
  {
   "cell_type": "code",
   "execution_count": 9,
   "metadata": {},
   "outputs": [
    {
     "name": "stdout",
     "output_type": "stream",
     "text": [
      "Enter range: 34\n",
      "Prime numbers between 1 and 34 are:\n",
      "2\n",
      "3\n",
      "5\n",
      "7\n",
      "11\n",
      "13\n",
      "17\n",
      "19\n",
      "23\n",
      "29\n",
      "31\n"
     ]
    }
   ],
   "source": [
    "#14\n",
    "n = int(input(\"Enter range: \"))\n",
    "\n",
    "print(\"Prime numbers between 1 and\",n,\"are:\")\n",
    "\n",
    "for i in range(1,n+1):\n",
    "   if i > 1:\n",
    "       for j in range(2,i):\n",
    "           if (i % j) == 0:\n",
    "               break\n",
    "       else:\n",
    "           print(i)"
   ]
  },
  {
   "cell_type": "code",
   "execution_count": 2,
   "metadata": {},
   "outputs": [
    {
     "name": "stdout",
     "output_type": "stream",
     "text": [
      "Enter a number: 5\n",
      "The factorial of 5 is 120\n"
     ]
    }
   ],
   "source": [
    "#15\n",
    "fact = 1\n",
    "n = int(input(\"Enter a number: \"))\n",
    "if n < 0:\n",
    "   print(\"Sorry, factorial does not exist for negative numbers\")\n",
    "elif n == 0:\n",
    "   print(\"The factorial of 0 is 1\")\n",
    "else:\n",
    "    for i in range(1,n + 1):\n",
    "       fact = fact*i\n",
    "    print(\"The factorial of\",n,\"is\",fact)"
   ]
  },
  {
   "cell_type": "code",
   "execution_count": 21,
   "metadata": {},
   "outputs": [
    {
     "name": "stdout",
     "output_type": "stream",
     "text": [
      "Enter a number: 0\n",
      "The factorial of 0 is 1\n"
     ]
    }
   ],
   "source": [
    "fact = 1\n",
    "n = int(input(\"Enter a number: \"))\n",
    "if n < 0:\n",
    "   print(\"Sorry, factorial does not exist for negative numbers\")\n",
    "elif n == 0:\n",
    "    print(\"The factorial of 0 is 1\")\n",
    "else:\n",
    "    for i in range(1,n + 1):\n",
    "       fact = fact*i\n",
    "    print(\"The factorial of\",n,\"is\",fact)"
   ]
  },
  {
   "cell_type": "code",
   "execution_count": 23,
   "metadata": {},
   "outputs": [
    {
     "name": "stdout",
     "output_type": "stream",
     "text": [
      "Enter a number: -1\n",
      "Factorial does not exist for negative numbers\n"
     ]
    }
   ],
   "source": [
    "fact = 1\n",
    "n = int(input(\"Enter a number: \"))\n",
    "if n < 0:\n",
    "   print(\"Factorial does not exist for negative numbers\")\n",
    "elif n == 0:\n",
    "    print(\"The factorial of 0 is 1\")\n",
    "else:\n",
    "    for i in range(1,n + 1):\n",
    "       fact = fact*i\n",
    "    print(\"The factorial of\",n,\"is\",fact)"
   ]
  },
  {
   "cell_type": "code",
   "execution_count": 7,
   "metadata": {},
   "outputs": [
    {
     "name": "stdout",
     "output_type": "stream",
     "text": [
      "Enter a number: 10\n",
      "0\n",
      "1\n",
      "1\n",
      "2\n",
      "4\n",
      "8\n"
     ]
    }
   ],
   "source": [
    "#16\n",
    "n = int(input(\"Enter a number: \"))\n",
    "x=0\n",
    "y=1\n",
    "print(x)\n",
    "while y<n:\n",
    "    print(y)\n",
    "    y = x+y\n",
    "    x=y"
   ]
  },
  {
   "cell_type": "code",
   "execution_count": 4,
   "metadata": {},
   "outputs": [
    {
     "name": "stdout",
     "output_type": "stream",
     "text": [
      "Enter first number: 3\n",
      "Enter second number: 5\n",
      "LCM of two number is: 15\n"
     ]
    }
   ],
   "source": [
    "#17\n",
    "n1 = int(input(\"Enter first number: \"))\n",
    "n2 = int(input(\"Enter second number: \"))\n",
    " \n",
    "n = min(n1, n2)\n",
    " \n",
    "while(1):\n",
    "    if(n % n1 == 0 and n % n2 == 0):\n",
    "        print(\"LCM of two number is:\", n)\n",
    "        break\n",
    "    n = n+1"
   ]
  },
  {
   "cell_type": "code",
   "execution_count": 13,
   "metadata": {},
   "outputs": [
    {
     "name": "stdout",
     "output_type": "stream",
     "text": [
      "Enter a number: 11\n",
      "11 is prime number\n"
     ]
    }
   ],
   "source": [
    "#18\n",
    "n = int(input(\"Enter a number: \"))\n",
    "c = 0;\n",
    "for i in range(2, n-1):\n",
    "    if n%i == 0:\n",
    "        print(i)\n",
    "        i += 1\n",
    "        c=1\n",
    "if c==0:\n",
    "    print(n,\"is prime number\")"
   ]
  },
  {
   "cell_type": "code",
   "execution_count": 8,
   "metadata": {},
   "outputs": [
    {
     "name": "stdout",
     "output_type": "stream",
     "text": [
      "enter limit:5\n",
      "1\n",
      "3\n",
      "6\n",
      "10\n",
      "15\n",
      "Fibonacci series:  15 15\n"
     ]
    }
   ],
   "source": [
    "a=0\n",
    "b=1\n",
    "n=int(input('enter limit:'))\n",
    "for b in range(1,n+1):\n",
    "    if(b<n+1): \n",
    "        b=a+b\n",
    "        a=b\n",
    "        print(b)\n",
    "    \n",
    "print('Fibonacci series: ',a,b)"
   ]
  },
  {
   "cell_type": "code",
   "execution_count": 14,
   "metadata": {},
   "outputs": [
    {
     "name": "stdout",
     "output_type": "stream",
     "text": [
      "Enter limit10\n",
      "0\n",
      "1\n",
      "1\n",
      "2\n",
      "3\n",
      "5\n",
      "8\n",
      "13\n",
      "21\n",
      "34\n"
     ]
    }
   ],
   "source": [
    "a = 0\n",
    "b = 1\n",
    "n = int(input(\"Enter limit\"))\n",
    "for i in range(0, n):\n",
    "           if(i <= 1):\n",
    "                      n1 = i\n",
    "           else:\n",
    "                      n1 = a + b\n",
    "                      a = b\n",
    "                      b = n1\n",
    "           print(n1)"
   ]
  },
  {
   "cell_type": "code",
   "execution_count": 1,
   "metadata": {},
   "outputs": [
    {
     "name": "stdout",
     "output_type": "stream",
     "text": [
      "*\n",
      "**\n",
      "***\n",
      "****\n",
      "*****\n"
     ]
    }
   ],
   "source": [
    "#19.1\n",
    "for i in range(5):\n",
    "    print('*' * (i+1))"
   ]
  },
  {
   "cell_type": "code",
   "execution_count": 2,
   "metadata": {},
   "outputs": [
    {
     "name": "stdout",
     "output_type": "stream",
     "text": [
      "*******\n",
      "******\n",
      "*****\n",
      "****\n",
      "***\n",
      "**\n",
      "*\n"
     ]
    }
   ],
   "source": [
    "#19.2\n",
    "for i in range(7,0,-1):\n",
    "    print('*' * (i))"
   ]
  },
  {
   "cell_type": "code",
   "execution_count": 9,
   "metadata": {},
   "outputs": [
    {
     "name": "stdout",
     "output_type": "stream",
     "text": [
      "1 \n",
      "\n",
      "2 2 \n",
      "\n",
      "3 3 3 \n",
      "\n",
      "4 4 4 4 \n",
      "\n",
      "5 5 5 5 5 \n",
      "\n"
     ]
    }
   ],
   "source": [
    "#19.3\n",
    "for num in range (1,6,1):\n",
    "    for i in range(0,num,1):\n",
    "        print (num, end=\" \")\n",
    "    print(\"\\n\")"
   ]
  },
  {
   "cell_type": "code",
   "execution_count": 10,
   "metadata": {},
   "outputs": [],
   "source": [
    "#19.4"
   ]
  },
  {
   "cell_type": "code",
   "execution_count": 11,
   "metadata": {},
   "outputs": [],
   "source": [
    "#19.5\n"
   ]
  },
  {
   "cell_type": "code",
   "execution_count": 12,
   "metadata": {},
   "outputs": [],
   "source": [
    "#19.6"
   ]
  },
  {
   "cell_type": "code",
   "execution_count": 13,
   "metadata": {},
   "outputs": [],
   "source": [
    "#20"
   ]
  },
  {
   "cell_type": "code",
   "execution_count": 15,
   "metadata": {},
   "outputs": [],
   "source": [
    "#STRINGS"
   ]
  },
  {
   "cell_type": "code",
   "execution_count": 31,
   "metadata": {},
   "outputs": [
    {
     "name": "stdout",
     "output_type": "stream",
     "text": [
      "Enter String : hello\n",
      "The length of string is 5\n"
     ]
    }
   ],
   "source": [
    "#1\n",
    "def str_len():\n",
    "    s= input(\"Enter String : \")\n",
    "    c=0\n",
    "    for i in s :\n",
    "        c=c+1\n",
    "    print(\"The length of string is\",c)\n",
    "str_len()"
   ]
  },
  {
   "cell_type": "code",
   "execution_count": 20,
   "metadata": {},
   "outputs": [
    {
     "name": "stdout",
     "output_type": "stream",
     "text": [
      "Enter String 1 : nanak\n",
      "Enter String 2 : singh\n"
     ]
    },
    {
     "data": {
      "text/plain": [
       "'nanaksingh'"
      ]
     },
     "execution_count": 20,
     "metadata": {},
     "output_type": "execute_result"
    }
   ],
   "source": [
    "#2\n",
    "def concat():\n",
    "    a=input(\"Enter String 1 : \")\n",
    "    b=input(\"Enter String 2 : \")\n",
    "    return a+b\n",
    "concat()"
   ]
  },
  {
   "cell_type": "code",
   "execution_count": 33,
   "metadata": {},
   "outputs": [
    {
     "name": "stdout",
     "output_type": "stream",
     "text": [
      "Enter String : hello123\n",
      "Alphabets : 5\n",
      "Digits : 3\n"
     ]
    }
   ],
   "source": [
    "#3\n",
    "def num():\n",
    "    a=input(\"Enter String : \")\n",
    "    alpha=0\n",
    "    dig=0\n",
    "    for i in a:\n",
    "        if(ord(i)>=65 and ord(i)<=90)or (ord(i)>=90 and ord(i)<=122):\n",
    "            alpha=alpha+1\n",
    "        elif(ord(i)>=48 and ord(i)<=57):\n",
    "            dig=dig+1\n",
    "        else:\n",
    "            pass\n",
    "    print(\"Alphabets :\",alpha)\n",
    "    print(\"Digits :\",dig)\n",
    "num()"
   ]
  },
  {
   "cell_type": "code",
   "execution_count": 35,
   "metadata": {},
   "outputs": [
    {
     "name": "stdout",
     "output_type": "stream",
     "text": [
      "Enter String : hello\n",
      "h\n",
      "e\n",
      "l\n",
      "l\n",
      "o\n"
     ]
    }
   ],
   "source": [
    "#4\n",
    "def newl():\n",
    "    s= input(\"Enter String : \")\n",
    "    for i in s :\n",
    "        print(i)\n",
    "newl()"
   ]
  },
  {
   "cell_type": "code",
   "execution_count": 24,
   "metadata": {},
   "outputs": [
    {
     "name": "stdout",
     "output_type": "stream",
     "text": [
      "Enter String : hello\n"
     ]
    },
    {
     "data": {
      "text/plain": [
       "'HELLO'"
      ]
     },
     "execution_count": 24,
     "metadata": {},
     "output_type": "execute_result"
    }
   ],
   "source": [
    "#5\n",
    "def toupper():\n",
    "    a=input(\"Enter String : \")\n",
    "    b=a.upper()\n",
    "    return b\n",
    "toupper()"
   ]
  },
  {
   "cell_type": "code",
   "execution_count": 39,
   "metadata": {},
   "outputs": [
    {
     "name": "stdout",
     "output_type": "stream",
     "text": [
      "Enter String : HelLo\n"
     ]
    },
    {
     "data": {
      "text/plain": [
       "('Uppercase :', 2, 'Lowercase :', 3)"
      ]
     },
     "execution_count": 39,
     "metadata": {},
     "output_type": "execute_result"
    }
   ],
   "source": [
    "#6\n",
    "def count(s):\n",
    "    u=0\n",
    "    l=0\n",
    "    for i in s:\n",
    "        if i.isupper():\n",
    "            u=u+1\n",
    "        if i.islower():\n",
    "            l=l+1\n",
    "    return(\"Uppercase :\",u,\"Lowercase :\",l)\n",
    "s= input(\"Enter String : \")\n",
    "count(s)\n",
    "    "
   ]
  },
  {
   "cell_type": "code",
   "execution_count": 40,
   "metadata": {},
   "outputs": [
    {
     "name": "stdout",
     "output_type": "stream",
     "text": [
      "Enter String : my name is nanak\n",
      "y\n",
      "n\n",
      "m\n",
      " \n",
      "s\n",
      "n\n",
      "n\n",
      "k\n"
     ]
    }
   ],
   "source": [
    "#7\n",
    "def even(a):\n",
    "    c=0\n",
    "    for i in a:\n",
    "        c=c+1\n",
    "        if c%2==0:\n",
    "            print(i)\n",
    "s= input(\"Enter String : \")\n",
    "even(s)\n",
    "\n",
    "    \n"
   ]
  },
  {
   "cell_type": "code",
   "execution_count": 46,
   "metadata": {},
   "outputs": [
    {
     "name": "stdout",
     "output_type": "stream",
     "text": [
      "Enter String : hello nanak\n",
      "Enter the letter number from where characters are not to be removed : 3\n",
      "llo nanak"
     ]
    }
   ],
   "source": [
    "#8\n",
    "def remov(s):\n",
    "    c=0\n",
    "    n=int(input(\"Enter the letter number from where characters are not to be removed : \"))\n",
    "    for i in s:\n",
    "        c=c+1\n",
    "        if c<n:\n",
    "            pass\n",
    "        else:\n",
    "            print(i,end=\"\")\n",
    "s= input(\"Enter String : \")\n",
    "remov(s)"
   ]
  },
  {
   "cell_type": "code",
   "execution_count": 55,
   "metadata": {},
   "outputs": [
    {
     "name": "stdout",
     "output_type": "stream",
     "text": [
      "Enter String : HellO\n"
     ]
    },
    {
     "data": {
      "text/plain": [
       "('Swapped Case String is :', 'hELLo')"
      ]
     },
     "execution_count": 55,
     "metadata": {},
     "output_type": "execute_result"
    }
   ],
   "source": [
    "#9\n",
    "def swapcase(s):\n",
    "    c = \"\"\n",
    "    a=len(s)\n",
    "    for i in range(a):\n",
    "        if s[i].isupper():\n",
    "            c = c+s[i].lower() \n",
    "        elif s[i].islower():\n",
    "            c = c+s[i].upper()\n",
    "    return (\"Swapped Case String is :\",c)\n",
    "s= input(\"Enter String : \")\n",
    "swapcase(s)"
   ]
  },
  {
   "cell_type": "code",
   "execution_count": 59,
   "metadata": {},
   "outputs": [
    {
     "name": "stdout",
     "output_type": "stream",
     "text": [
      "Enter String : Hello myself nanak singh\n",
      "Enter character to be searched : a\n"
     ]
    },
    {
     "data": {
      "text/plain": [
       "2"
      ]
     },
     "execution_count": 59,
     "metadata": {},
     "output_type": "execute_result"
    }
   ],
   "source": [
    "#10\n",
    "def count(s) : \n",
    "    a= input(\"Enter character to be searched : \")\n",
    "    c = 0\n",
    "    z=len(s)\n",
    "    for i in range(z):\n",
    "        if (s[i] == a): \n",
    "            c = c + 1\n",
    "    return c\n",
    "s= input(\"Enter String : \")\n",
    "count(s)"
   ]
  },
  {
   "cell_type": "code",
   "execution_count": 69,
   "metadata": {},
   "outputs": [
    {
     "name": "stdout",
     "output_type": "stream",
     "text": [
      "Enter String : nanan\n",
      "Palindrome\n"
     ]
    }
   ],
   "source": [
    "#11\n",
    "def pali(s):\n",
    "    a = \"\" \n",
    "    for i in s: \n",
    "        a = i + a \n",
    "    if (a==s): \n",
    "        print(\"Palindrome\") \n",
    "    else:\n",
    "        print(\"Not a Palindrome\")\n",
    "s= input(\"Enter String : \")\n",
    "pali(s)"
   ]
  },
  {
   "cell_type": "code",
   "execution_count": 70,
   "metadata": {},
   "outputs": [
    {
     "name": "stdout",
     "output_type": "stream",
     "text": [
      "Enter String : nanak\n",
      "Not a Palindrome\n"
     ]
    }
   ],
   "source": [
    "def pali(s):\n",
    "    a = \"\" \n",
    "    for i in s: \n",
    "        a = i + a #order important\n",
    "    if (s==a): \n",
    "        print(\"Palindrome\") \n",
    "    else:\n",
    "        print(\"Not a Palindrome\")\n",
    "s= input(\"Enter String : \")\n",
    "pali(s)"
   ]
  },
  {
   "cell_type": "code",
   "execution_count": 74,
   "metadata": {},
   "outputs": [
    {
     "name": "stdout",
     "output_type": "stream",
     "text": [
      "Enter String 1 : qaz\n",
      "Enter String 2 : zaq\n",
      "not an anagram\n",
      "not an anagram\n",
      "q is present\n",
      "not an anagram\n",
      "a is present\n",
      "not an anagram\n",
      "z is present\n",
      "not an anagram\n",
      "not an anagram\n"
     ]
    }
   ],
   "source": [
    "#12(Galat hai)\n",
    "def anagram(s,a):\n",
    "    c=d=0\n",
    "    x=len(s)\n",
    "    y=len(a)\n",
    "    if x==y:\n",
    "        for i in s :\n",
    "            for j in a:\n",
    "                if i==j:\n",
    "                    print(i, \"is present\")\n",
    "                else:\n",
    "                    print(\"not an anagram\")\n",
    "s= input(\"Enter String 1 : \")\n",
    "a= input(\"Enter String 2 : \")\n",
    "anagram(s,a)"
   ]
  },
  {
   "cell_type": "code",
   "execution_count": null,
   "metadata": {},
   "outputs": [],
   "source": []
  }
 ],
 "metadata": {
  "kernelspec": {
   "display_name": "Python 3",
   "language": "python",
   "name": "python3"
  },
  "language_info": {
   "codemirror_mode": {
    "name": "ipython",
    "version": 3
   },
   "file_extension": ".py",
   "mimetype": "text/x-python",
   "name": "python",
   "nbconvert_exporter": "python",
   "pygments_lexer": "ipython3",
   "version": "3.7.0"
  }
 },
 "nbformat": 4,
 "nbformat_minor": 2
}
